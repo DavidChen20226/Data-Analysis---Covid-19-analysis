{
  "nbformat": 4,
  "nbformat_minor": 0,
  "metadata": {
    "colab": {
      "provenance": [],
      "collapsed_sections": [
        "fgkrBJ0Z4Kyh",
        "XTR800C9PQ0S",
        "uVMZZ7OcToHa",
        "AYRmaIICfGIQ",
        "vnG9-OkNnfL5"
      ]
    },
    "kernelspec": {
      "name": "python3",
      "display_name": "Python 3"
    },
    "language_info": {
      "name": "python"
    }
  },
  "cells": [
    {
      "cell_type": "markdown",
      "source": [
        "\n",
        "\n",
        "COVID-19 for Data Analysis Project\n",
        "\n",
        "The Dataset is obtained from Kaggle at the following link: https://www.kaggle.com/datasets/kunal28chaturvedi/covid19-and-its-impact-on-students\n",
        "\n",
        "COVID-19 is a global pandemic caused by the coronavirus, It presents unique challenges for data analysis.\n"
      ],
      "metadata": {
        "id": "HOOyCu7usK0p"
      }
    },
    {
      "cell_type": "markdown",
      "source": [
        "Educational Disruption: Many schools and universities shifted to remote learning, affecting the quality and accessibility of education. This sudden change disrupted traditional teaching methods and learning experiences.\n",
        "\n",
        "Social and Emotional Impact: The lack of in-person interaction and extracurricular activities led to increased feelings of isolation and stress among students."
      ],
      "metadata": {
        "id": "sNaagL80K9rY"
      }
    },
    {
      "cell_type": "markdown",
      "source": [
        "This project involves analyzing a dataset of student responses regarding their experiences during the COVID-19 pandemic"
      ],
      "metadata": {
        "id": "UOTJwzCXZ0ML"
      }
    },
    {
      "cell_type": "markdown",
      "source": [
        "Group Member: (X00178358 David Chen) (X"
      ],
      "metadata": {
        "id": "-u0P5_oKgPe_"
      }
    },
    {
      "cell_type": "markdown",
      "source": [
        "Imports\n",
        "\n",
        "** Import pandas, numpy, matplotlib,and seaborn. **"
      ],
      "metadata": {
        "id": "YZRylD8HuCPQ"
      }
    },
    {
      "cell_type": "code",
      "execution_count": 10,
      "metadata": {
        "id": "NP68IUHXrsd6"
      },
      "outputs": [],
      "source": [
        "import pandas as pd\n",
        "import numpy as np\n",
        "import matplotlib.pyplot as plt\n",
        "import seaborn as sns"
      ]
    },
    {
      "cell_type": "markdown",
      "source": [
        "Read in the Covid-19 dataset csv file"
      ],
      "metadata": {
        "id": "N5NQ44ohuA7F"
      }
    },
    {
      "cell_type": "code",
      "source": [
        "df = pd.read_csv('COVID-19 Survey Student Responses.csv')"
      ],
      "metadata": {
        "id": "94Wo1uldxx3y"
      },
      "execution_count": 11,
      "outputs": []
    },
    {
      "cell_type": "code",
      "source": [
        "df.head()"
      ],
      "metadata": {
        "colab": {
          "base_uri": "https://localhost:8080/",
          "height": 467
        },
        "id": "5giU4afEx-AI",
        "outputId": "a0622406-0d39-40d2-adb8-58569842a9fe"
      },
      "execution_count": null,
      "outputs": [
        {
          "output_type": "execute_result",
          "data": {
            "text/plain": [
              "   ID Region of residence  Age of Subject  Time spent on Online Class  \\\n",
              "0  R1           Delhi-NCR              21                         2.0   \n",
              "1  R2           Delhi-NCR              21                         0.0   \n",
              "2  R3           Delhi-NCR              20                         7.0   \n",
              "3  R4           Delhi-NCR              20                         3.0   \n",
              "4  R5           Delhi-NCR              21                         3.0   \n",
              "\n",
              "  Rating of Online Class experience Medium for online class  \\\n",
              "0                              Good          Laptop/Desktop   \n",
              "1                         Excellent              Smartphone   \n",
              "2                         Very poor          Laptop/Desktop   \n",
              "3                         Very poor              Smartphone   \n",
              "4                              Good          Laptop/Desktop   \n",
              "\n",
              "   Time spent on self study  Time spent on fitness  Time spent on sleep  \\\n",
              "0                       4.0                    0.0                  7.0   \n",
              "1                       0.0                    2.0                 10.0   \n",
              "2                       3.0                    0.0                  6.0   \n",
              "3                       2.0                    1.0                  6.0   \n",
              "4                       3.0                    1.0                  8.0   \n",
              "\n",
              "   Time spent on social media Prefered social media platform Time spent on TV  \\\n",
              "0                         3.0                       Linkedin                1   \n",
              "1                         3.0                        Youtube                0   \n",
              "2                         2.0                       Linkedin                0   \n",
              "3                         5.0                      Instagram                0   \n",
              "4                         3.0                      Instagram                1   \n",
              "\n",
              "   Number of meals per day Change in your weight Health issue during lockdown  \\\n",
              "0                        4             Increased                           NO   \n",
              "1                        3             Decreased                           NO   \n",
              "2                        3       Remain Constant                           NO   \n",
              "3                        3             Decreased                           NO   \n",
              "4                        4       Remain Constant                           NO   \n",
              "\n",
              "                   Stress busters Time utilized  \\\n",
              "0                         Cooking           YES   \n",
              "1  Scrolling through social media           YES   \n",
              "2              Listening to music            NO   \n",
              "3             Watching web series            NO   \n",
              "4                    Social Media            NO   \n",
              "\n",
              "  Do you find yourself more connected with your family, close friends , relatives  ?  \\\n",
              "0                                                YES                                   \n",
              "1                                                 NO                                   \n",
              "2                                                YES                                   \n",
              "3                                                 NO                                   \n",
              "4                                                 NO                                   \n",
              "\n",
              "  What you miss the most  \n",
              "0         School/college  \n",
              "1  Roaming around freely  \n",
              "2             Travelling  \n",
              "3    Friends , relatives  \n",
              "4             Travelling  "
            ],
            "text/html": [
              "\n",
              "  <div id=\"df-e327dced-5369-47f3-b39f-6bdc0defc010\" class=\"colab-df-container\">\n",
              "    <div>\n",
              "<style scoped>\n",
              "    .dataframe tbody tr th:only-of-type {\n",
              "        vertical-align: middle;\n",
              "    }\n",
              "\n",
              "    .dataframe tbody tr th {\n",
              "        vertical-align: top;\n",
              "    }\n",
              "\n",
              "    .dataframe thead th {\n",
              "        text-align: right;\n",
              "    }\n",
              "</style>\n",
              "<table border=\"1\" class=\"dataframe\">\n",
              "  <thead>\n",
              "    <tr style=\"text-align: right;\">\n",
              "      <th></th>\n",
              "      <th>ID</th>\n",
              "      <th>Region of residence</th>\n",
              "      <th>Age of Subject</th>\n",
              "      <th>Time spent on Online Class</th>\n",
              "      <th>Rating of Online Class experience</th>\n",
              "      <th>Medium for online class</th>\n",
              "      <th>Time spent on self study</th>\n",
              "      <th>Time spent on fitness</th>\n",
              "      <th>Time spent on sleep</th>\n",
              "      <th>Time spent on social media</th>\n",
              "      <th>Prefered social media platform</th>\n",
              "      <th>Time spent on TV</th>\n",
              "      <th>Number of meals per day</th>\n",
              "      <th>Change in your weight</th>\n",
              "      <th>Health issue during lockdown</th>\n",
              "      <th>Stress busters</th>\n",
              "      <th>Time utilized</th>\n",
              "      <th>Do you find yourself more connected with your family, close friends , relatives  ?</th>\n",
              "      <th>What you miss the most</th>\n",
              "    </tr>\n",
              "  </thead>\n",
              "  <tbody>\n",
              "    <tr>\n",
              "      <th>0</th>\n",
              "      <td>R1</td>\n",
              "      <td>Delhi-NCR</td>\n",
              "      <td>21</td>\n",
              "      <td>2.0</td>\n",
              "      <td>Good</td>\n",
              "      <td>Laptop/Desktop</td>\n",
              "      <td>4.0</td>\n",
              "      <td>0.0</td>\n",
              "      <td>7.0</td>\n",
              "      <td>3.0</td>\n",
              "      <td>Linkedin</td>\n",
              "      <td>1</td>\n",
              "      <td>4</td>\n",
              "      <td>Increased</td>\n",
              "      <td>NO</td>\n",
              "      <td>Cooking</td>\n",
              "      <td>YES</td>\n",
              "      <td>YES</td>\n",
              "      <td>School/college</td>\n",
              "    </tr>\n",
              "    <tr>\n",
              "      <th>1</th>\n",
              "      <td>R2</td>\n",
              "      <td>Delhi-NCR</td>\n",
              "      <td>21</td>\n",
              "      <td>0.0</td>\n",
              "      <td>Excellent</td>\n",
              "      <td>Smartphone</td>\n",
              "      <td>0.0</td>\n",
              "      <td>2.0</td>\n",
              "      <td>10.0</td>\n",
              "      <td>3.0</td>\n",
              "      <td>Youtube</td>\n",
              "      <td>0</td>\n",
              "      <td>3</td>\n",
              "      <td>Decreased</td>\n",
              "      <td>NO</td>\n",
              "      <td>Scrolling through social media</td>\n",
              "      <td>YES</td>\n",
              "      <td>NO</td>\n",
              "      <td>Roaming around freely</td>\n",
              "    </tr>\n",
              "    <tr>\n",
              "      <th>2</th>\n",
              "      <td>R3</td>\n",
              "      <td>Delhi-NCR</td>\n",
              "      <td>20</td>\n",
              "      <td>7.0</td>\n",
              "      <td>Very poor</td>\n",
              "      <td>Laptop/Desktop</td>\n",
              "      <td>3.0</td>\n",
              "      <td>0.0</td>\n",
              "      <td>6.0</td>\n",
              "      <td>2.0</td>\n",
              "      <td>Linkedin</td>\n",
              "      <td>0</td>\n",
              "      <td>3</td>\n",
              "      <td>Remain Constant</td>\n",
              "      <td>NO</td>\n",
              "      <td>Listening to music</td>\n",
              "      <td>NO</td>\n",
              "      <td>YES</td>\n",
              "      <td>Travelling</td>\n",
              "    </tr>\n",
              "    <tr>\n",
              "      <th>3</th>\n",
              "      <td>R4</td>\n",
              "      <td>Delhi-NCR</td>\n",
              "      <td>20</td>\n",
              "      <td>3.0</td>\n",
              "      <td>Very poor</td>\n",
              "      <td>Smartphone</td>\n",
              "      <td>2.0</td>\n",
              "      <td>1.0</td>\n",
              "      <td>6.0</td>\n",
              "      <td>5.0</td>\n",
              "      <td>Instagram</td>\n",
              "      <td>0</td>\n",
              "      <td>3</td>\n",
              "      <td>Decreased</td>\n",
              "      <td>NO</td>\n",
              "      <td>Watching web series</td>\n",
              "      <td>NO</td>\n",
              "      <td>NO</td>\n",
              "      <td>Friends , relatives</td>\n",
              "    </tr>\n",
              "    <tr>\n",
              "      <th>4</th>\n",
              "      <td>R5</td>\n",
              "      <td>Delhi-NCR</td>\n",
              "      <td>21</td>\n",
              "      <td>3.0</td>\n",
              "      <td>Good</td>\n",
              "      <td>Laptop/Desktop</td>\n",
              "      <td>3.0</td>\n",
              "      <td>1.0</td>\n",
              "      <td>8.0</td>\n",
              "      <td>3.0</td>\n",
              "      <td>Instagram</td>\n",
              "      <td>1</td>\n",
              "      <td>4</td>\n",
              "      <td>Remain Constant</td>\n",
              "      <td>NO</td>\n",
              "      <td>Social Media</td>\n",
              "      <td>NO</td>\n",
              "      <td>NO</td>\n",
              "      <td>Travelling</td>\n",
              "    </tr>\n",
              "  </tbody>\n",
              "</table>\n",
              "</div>\n",
              "    <div class=\"colab-df-buttons\">\n",
              "\n",
              "  <div class=\"colab-df-container\">\n",
              "    <button class=\"colab-df-convert\" onclick=\"convertToInteractive('df-e327dced-5369-47f3-b39f-6bdc0defc010')\"\n",
              "            title=\"Convert this dataframe to an interactive table.\"\n",
              "            style=\"display:none;\">\n",
              "\n",
              "  <svg xmlns=\"http://www.w3.org/2000/svg\" height=\"24px\" viewBox=\"0 -960 960 960\">\n",
              "    <path d=\"M120-120v-720h720v720H120Zm60-500h600v-160H180v160Zm220 220h160v-160H400v160Zm0 220h160v-160H400v160ZM180-400h160v-160H180v160Zm440 0h160v-160H620v160ZM180-180h160v-160H180v160Zm440 0h160v-160H620v160Z\"/>\n",
              "  </svg>\n",
              "    </button>\n",
              "\n",
              "  <style>\n",
              "    .colab-df-container {\n",
              "      display:flex;\n",
              "      gap: 12px;\n",
              "    }\n",
              "\n",
              "    .colab-df-convert {\n",
              "      background-color: #E8F0FE;\n",
              "      border: none;\n",
              "      border-radius: 50%;\n",
              "      cursor: pointer;\n",
              "      display: none;\n",
              "      fill: #1967D2;\n",
              "      height: 32px;\n",
              "      padding: 0 0 0 0;\n",
              "      width: 32px;\n",
              "    }\n",
              "\n",
              "    .colab-df-convert:hover {\n",
              "      background-color: #E2EBFA;\n",
              "      box-shadow: 0px 1px 2px rgba(60, 64, 67, 0.3), 0px 1px 3px 1px rgba(60, 64, 67, 0.15);\n",
              "      fill: #174EA6;\n",
              "    }\n",
              "\n",
              "    .colab-df-buttons div {\n",
              "      margin-bottom: 4px;\n",
              "    }\n",
              "\n",
              "    [theme=dark] .colab-df-convert {\n",
              "      background-color: #3B4455;\n",
              "      fill: #D2E3FC;\n",
              "    }\n",
              "\n",
              "    [theme=dark] .colab-df-convert:hover {\n",
              "      background-color: #434B5C;\n",
              "      box-shadow: 0px 1px 3px 1px rgba(0, 0, 0, 0.15);\n",
              "      filter: drop-shadow(0px 1px 2px rgba(0, 0, 0, 0.3));\n",
              "      fill: #FFFFFF;\n",
              "    }\n",
              "  </style>\n",
              "\n",
              "    <script>\n",
              "      const buttonEl =\n",
              "        document.querySelector('#df-e327dced-5369-47f3-b39f-6bdc0defc010 button.colab-df-convert');\n",
              "      buttonEl.style.display =\n",
              "        google.colab.kernel.accessAllowed ? 'block' : 'none';\n",
              "\n",
              "      async function convertToInteractive(key) {\n",
              "        const element = document.querySelector('#df-e327dced-5369-47f3-b39f-6bdc0defc010');\n",
              "        const dataTable =\n",
              "          await google.colab.kernel.invokeFunction('convertToInteractive',\n",
              "                                                    [key], {});\n",
              "        if (!dataTable) return;\n",
              "\n",
              "        const docLinkHtml = 'Like what you see? Visit the ' +\n",
              "          '<a target=\"_blank\" href=https://colab.research.google.com/notebooks/data_table.ipynb>data table notebook</a>'\n",
              "          + ' to learn more about interactive tables.';\n",
              "        element.innerHTML = '';\n",
              "        dataTable['output_type'] = 'display_data';\n",
              "        await google.colab.output.renderOutput(dataTable, element);\n",
              "        const docLink = document.createElement('div');\n",
              "        docLink.innerHTML = docLinkHtml;\n",
              "        element.appendChild(docLink);\n",
              "      }\n",
              "    </script>\n",
              "  </div>\n",
              "\n",
              "\n",
              "<div id=\"df-d8afa990-518f-429b-8687-23e158eccd63\">\n",
              "  <button class=\"colab-df-quickchart\" onclick=\"quickchart('df-d8afa990-518f-429b-8687-23e158eccd63')\"\n",
              "            title=\"Suggest charts\"\n",
              "            style=\"display:none;\">\n",
              "\n",
              "<svg xmlns=\"http://www.w3.org/2000/svg\" height=\"24px\"viewBox=\"0 0 24 24\"\n",
              "     width=\"24px\">\n",
              "    <g>\n",
              "        <path d=\"M19 3H5c-1.1 0-2 .9-2 2v14c0 1.1.9 2 2 2h14c1.1 0 2-.9 2-2V5c0-1.1-.9-2-2-2zM9 17H7v-7h2v7zm4 0h-2V7h2v10zm4 0h-2v-4h2v4z\"/>\n",
              "    </g>\n",
              "</svg>\n",
              "  </button>\n",
              "\n",
              "<style>\n",
              "  .colab-df-quickchart {\n",
              "      --bg-color: #E8F0FE;\n",
              "      --fill-color: #1967D2;\n",
              "      --hover-bg-color: #E2EBFA;\n",
              "      --hover-fill-color: #174EA6;\n",
              "      --disabled-fill-color: #AAA;\n",
              "      --disabled-bg-color: #DDD;\n",
              "  }\n",
              "\n",
              "  [theme=dark] .colab-df-quickchart {\n",
              "      --bg-color: #3B4455;\n",
              "      --fill-color: #D2E3FC;\n",
              "      --hover-bg-color: #434B5C;\n",
              "      --hover-fill-color: #FFFFFF;\n",
              "      --disabled-bg-color: #3B4455;\n",
              "      --disabled-fill-color: #666;\n",
              "  }\n",
              "\n",
              "  .colab-df-quickchart {\n",
              "    background-color: var(--bg-color);\n",
              "    border: none;\n",
              "    border-radius: 50%;\n",
              "    cursor: pointer;\n",
              "    display: none;\n",
              "    fill: var(--fill-color);\n",
              "    height: 32px;\n",
              "    padding: 0;\n",
              "    width: 32px;\n",
              "  }\n",
              "\n",
              "  .colab-df-quickchart:hover {\n",
              "    background-color: var(--hover-bg-color);\n",
              "    box-shadow: 0 1px 2px rgba(60, 64, 67, 0.3), 0 1px 3px 1px rgba(60, 64, 67, 0.15);\n",
              "    fill: var(--button-hover-fill-color);\n",
              "  }\n",
              "\n",
              "  .colab-df-quickchart-complete:disabled,\n",
              "  .colab-df-quickchart-complete:disabled:hover {\n",
              "    background-color: var(--disabled-bg-color);\n",
              "    fill: var(--disabled-fill-color);\n",
              "    box-shadow: none;\n",
              "  }\n",
              "\n",
              "  .colab-df-spinner {\n",
              "    border: 2px solid var(--fill-color);\n",
              "    border-color: transparent;\n",
              "    border-bottom-color: var(--fill-color);\n",
              "    animation:\n",
              "      spin 1s steps(1) infinite;\n",
              "  }\n",
              "\n",
              "  @keyframes spin {\n",
              "    0% {\n",
              "      border-color: transparent;\n",
              "      border-bottom-color: var(--fill-color);\n",
              "      border-left-color: var(--fill-color);\n",
              "    }\n",
              "    20% {\n",
              "      border-color: transparent;\n",
              "      border-left-color: var(--fill-color);\n",
              "      border-top-color: var(--fill-color);\n",
              "    }\n",
              "    30% {\n",
              "      border-color: transparent;\n",
              "      border-left-color: var(--fill-color);\n",
              "      border-top-color: var(--fill-color);\n",
              "      border-right-color: var(--fill-color);\n",
              "    }\n",
              "    40% {\n",
              "      border-color: transparent;\n",
              "      border-right-color: var(--fill-color);\n",
              "      border-top-color: var(--fill-color);\n",
              "    }\n",
              "    60% {\n",
              "      border-color: transparent;\n",
              "      border-right-color: var(--fill-color);\n",
              "    }\n",
              "    80% {\n",
              "      border-color: transparent;\n",
              "      border-right-color: var(--fill-color);\n",
              "      border-bottom-color: var(--fill-color);\n",
              "    }\n",
              "    90% {\n",
              "      border-color: transparent;\n",
              "      border-bottom-color: var(--fill-color);\n",
              "    }\n",
              "  }\n",
              "</style>\n",
              "\n",
              "  <script>\n",
              "    async function quickchart(key) {\n",
              "      const quickchartButtonEl =\n",
              "        document.querySelector('#' + key + ' button');\n",
              "      quickchartButtonEl.disabled = true;  // To prevent multiple clicks.\n",
              "      quickchartButtonEl.classList.add('colab-df-spinner');\n",
              "      try {\n",
              "        const charts = await google.colab.kernel.invokeFunction(\n",
              "            'suggestCharts', [key], {});\n",
              "      } catch (error) {\n",
              "        console.error('Error during call to suggestCharts:', error);\n",
              "      }\n",
              "      quickchartButtonEl.classList.remove('colab-df-spinner');\n",
              "      quickchartButtonEl.classList.add('colab-df-quickchart-complete');\n",
              "    }\n",
              "    (() => {\n",
              "      let quickchartButtonEl =\n",
              "        document.querySelector('#df-d8afa990-518f-429b-8687-23e158eccd63 button');\n",
              "      quickchartButtonEl.style.display =\n",
              "        google.colab.kernel.accessAllowed ? 'block' : 'none';\n",
              "    })();\n",
              "  </script>\n",
              "</div>\n",
              "    </div>\n",
              "  </div>\n"
            ]
          },
          "metadata": {},
          "execution_count": 10
        }
      ]
    },
    {
      "cell_type": "markdown",
      "source": [
        "## Data Cleaning\n",
        "\n",
        "\n"
      ],
      "metadata": {
        "id": "fgkrBJ0Z4Kyh"
      }
    },
    {
      "cell_type": "markdown",
      "source": [
        "A Graph show time spent on tv and social media platform"
      ],
      "metadata": {
        "id": "3ezbsTxrCZLF"
      }
    },
    {
      "cell_type": "code",
      "source": [
        "df['Time spent on TV'] = pd.to_numeric(df['Time spent on TV'], errors='coerce')\n",
        "median_tv_time = df['Time spent on TV'].median()\n",
        "df['Time spent on TV'].fillna(median_tv_time, inplace=True)\n",
        "df['Prefered social media platform'] = df['Prefered social media platform'].str.lower()\n",
        "df[['Time spent on TV', 'Prefered social media platform']].head()\n",
        "\n"
      ],
      "metadata": {
        "colab": {
          "base_uri": "https://localhost:8080/",
          "height": 206
        },
        "id": "HvP3Iu7h4aJj",
        "outputId": "34f7c6c4-53a2-4fc5-9c30-729ea7644760"
      },
      "execution_count": null,
      "outputs": [
        {
          "output_type": "execute_result",
          "data": {
            "text/plain": [
              "   Time spent on TV Prefered social media platform\n",
              "0               1.0                       linkedin\n",
              "1               0.0                        youtube\n",
              "2               0.0                       linkedin\n",
              "3               0.0                      instagram\n",
              "4               1.0                      instagram"
            ],
            "text/html": [
              "\n",
              "  <div id=\"df-a52e8c7c-37ff-4f65-b0d8-38c5dd77388f\" class=\"colab-df-container\">\n",
              "    <div>\n",
              "<style scoped>\n",
              "    .dataframe tbody tr th:only-of-type {\n",
              "        vertical-align: middle;\n",
              "    }\n",
              "\n",
              "    .dataframe tbody tr th {\n",
              "        vertical-align: top;\n",
              "    }\n",
              "\n",
              "    .dataframe thead th {\n",
              "        text-align: right;\n",
              "    }\n",
              "</style>\n",
              "<table border=\"1\" class=\"dataframe\">\n",
              "  <thead>\n",
              "    <tr style=\"text-align: right;\">\n",
              "      <th></th>\n",
              "      <th>Time spent on TV</th>\n",
              "      <th>Prefered social media platform</th>\n",
              "    </tr>\n",
              "  </thead>\n",
              "  <tbody>\n",
              "    <tr>\n",
              "      <th>0</th>\n",
              "      <td>1.0</td>\n",
              "      <td>linkedin</td>\n",
              "    </tr>\n",
              "    <tr>\n",
              "      <th>1</th>\n",
              "      <td>0.0</td>\n",
              "      <td>youtube</td>\n",
              "    </tr>\n",
              "    <tr>\n",
              "      <th>2</th>\n",
              "      <td>0.0</td>\n",
              "      <td>linkedin</td>\n",
              "    </tr>\n",
              "    <tr>\n",
              "      <th>3</th>\n",
              "      <td>0.0</td>\n",
              "      <td>instagram</td>\n",
              "    </tr>\n",
              "    <tr>\n",
              "      <th>4</th>\n",
              "      <td>1.0</td>\n",
              "      <td>instagram</td>\n",
              "    </tr>\n",
              "  </tbody>\n",
              "</table>\n",
              "</div>\n",
              "    <div class=\"colab-df-buttons\">\n",
              "\n",
              "  <div class=\"colab-df-container\">\n",
              "    <button class=\"colab-df-convert\" onclick=\"convertToInteractive('df-a52e8c7c-37ff-4f65-b0d8-38c5dd77388f')\"\n",
              "            title=\"Convert this dataframe to an interactive table.\"\n",
              "            style=\"display:none;\">\n",
              "\n",
              "  <svg xmlns=\"http://www.w3.org/2000/svg\" height=\"24px\" viewBox=\"0 -960 960 960\">\n",
              "    <path d=\"M120-120v-720h720v720H120Zm60-500h600v-160H180v160Zm220 220h160v-160H400v160Zm0 220h160v-160H400v160ZM180-400h160v-160H180v160Zm440 0h160v-160H620v160ZM180-180h160v-160H180v160Zm440 0h160v-160H620v160Z\"/>\n",
              "  </svg>\n",
              "    </button>\n",
              "\n",
              "  <style>\n",
              "    .colab-df-container {\n",
              "      display:flex;\n",
              "      gap: 12px;\n",
              "    }\n",
              "\n",
              "    .colab-df-convert {\n",
              "      background-color: #E8F0FE;\n",
              "      border: none;\n",
              "      border-radius: 50%;\n",
              "      cursor: pointer;\n",
              "      display: none;\n",
              "      fill: #1967D2;\n",
              "      height: 32px;\n",
              "      padding: 0 0 0 0;\n",
              "      width: 32px;\n",
              "    }\n",
              "\n",
              "    .colab-df-convert:hover {\n",
              "      background-color: #E2EBFA;\n",
              "      box-shadow: 0px 1px 2px rgba(60, 64, 67, 0.3), 0px 1px 3px 1px rgba(60, 64, 67, 0.15);\n",
              "      fill: #174EA6;\n",
              "    }\n",
              "\n",
              "    .colab-df-buttons div {\n",
              "      margin-bottom: 4px;\n",
              "    }\n",
              "\n",
              "    [theme=dark] .colab-df-convert {\n",
              "      background-color: #3B4455;\n",
              "      fill: #D2E3FC;\n",
              "    }\n",
              "\n",
              "    [theme=dark] .colab-df-convert:hover {\n",
              "      background-color: #434B5C;\n",
              "      box-shadow: 0px 1px 3px 1px rgba(0, 0, 0, 0.15);\n",
              "      filter: drop-shadow(0px 1px 2px rgba(0, 0, 0, 0.3));\n",
              "      fill: #FFFFFF;\n",
              "    }\n",
              "  </style>\n",
              "\n",
              "    <script>\n",
              "      const buttonEl =\n",
              "        document.querySelector('#df-a52e8c7c-37ff-4f65-b0d8-38c5dd77388f button.colab-df-convert');\n",
              "      buttonEl.style.display =\n",
              "        google.colab.kernel.accessAllowed ? 'block' : 'none';\n",
              "\n",
              "      async function convertToInteractive(key) {\n",
              "        const element = document.querySelector('#df-a52e8c7c-37ff-4f65-b0d8-38c5dd77388f');\n",
              "        const dataTable =\n",
              "          await google.colab.kernel.invokeFunction('convertToInteractive',\n",
              "                                                    [key], {});\n",
              "        if (!dataTable) return;\n",
              "\n",
              "        const docLinkHtml = 'Like what you see? Visit the ' +\n",
              "          '<a target=\"_blank\" href=https://colab.research.google.com/notebooks/data_table.ipynb>data table notebook</a>'\n",
              "          + ' to learn more about interactive tables.';\n",
              "        element.innerHTML = '';\n",
              "        dataTable['output_type'] = 'display_data';\n",
              "        await google.colab.output.renderOutput(dataTable, element);\n",
              "        const docLink = document.createElement('div');\n",
              "        docLink.innerHTML = docLinkHtml;\n",
              "        element.appendChild(docLink);\n",
              "      }\n",
              "    </script>\n",
              "  </div>\n",
              "\n",
              "\n",
              "<div id=\"df-ed0f88cb-92e2-4614-b60a-db50c20358c0\">\n",
              "  <button class=\"colab-df-quickchart\" onclick=\"quickchart('df-ed0f88cb-92e2-4614-b60a-db50c20358c0')\"\n",
              "            title=\"Suggest charts\"\n",
              "            style=\"display:none;\">\n",
              "\n",
              "<svg xmlns=\"http://www.w3.org/2000/svg\" height=\"24px\"viewBox=\"0 0 24 24\"\n",
              "     width=\"24px\">\n",
              "    <g>\n",
              "        <path d=\"M19 3H5c-1.1 0-2 .9-2 2v14c0 1.1.9 2 2 2h14c1.1 0 2-.9 2-2V5c0-1.1-.9-2-2-2zM9 17H7v-7h2v7zm4 0h-2V7h2v10zm4 0h-2v-4h2v4z\"/>\n",
              "    </g>\n",
              "</svg>\n",
              "  </button>\n",
              "\n",
              "<style>\n",
              "  .colab-df-quickchart {\n",
              "      --bg-color: #E8F0FE;\n",
              "      --fill-color: #1967D2;\n",
              "      --hover-bg-color: #E2EBFA;\n",
              "      --hover-fill-color: #174EA6;\n",
              "      --disabled-fill-color: #AAA;\n",
              "      --disabled-bg-color: #DDD;\n",
              "  }\n",
              "\n",
              "  [theme=dark] .colab-df-quickchart {\n",
              "      --bg-color: #3B4455;\n",
              "      --fill-color: #D2E3FC;\n",
              "      --hover-bg-color: #434B5C;\n",
              "      --hover-fill-color: #FFFFFF;\n",
              "      --disabled-bg-color: #3B4455;\n",
              "      --disabled-fill-color: #666;\n",
              "  }\n",
              "\n",
              "  .colab-df-quickchart {\n",
              "    background-color: var(--bg-color);\n",
              "    border: none;\n",
              "    border-radius: 50%;\n",
              "    cursor: pointer;\n",
              "    display: none;\n",
              "    fill: var(--fill-color);\n",
              "    height: 32px;\n",
              "    padding: 0;\n",
              "    width: 32px;\n",
              "  }\n",
              "\n",
              "  .colab-df-quickchart:hover {\n",
              "    background-color: var(--hover-bg-color);\n",
              "    box-shadow: 0 1px 2px rgba(60, 64, 67, 0.3), 0 1px 3px 1px rgba(60, 64, 67, 0.15);\n",
              "    fill: var(--button-hover-fill-color);\n",
              "  }\n",
              "\n",
              "  .colab-df-quickchart-complete:disabled,\n",
              "  .colab-df-quickchart-complete:disabled:hover {\n",
              "    background-color: var(--disabled-bg-color);\n",
              "    fill: var(--disabled-fill-color);\n",
              "    box-shadow: none;\n",
              "  }\n",
              "\n",
              "  .colab-df-spinner {\n",
              "    border: 2px solid var(--fill-color);\n",
              "    border-color: transparent;\n",
              "    border-bottom-color: var(--fill-color);\n",
              "    animation:\n",
              "      spin 1s steps(1) infinite;\n",
              "  }\n",
              "\n",
              "  @keyframes spin {\n",
              "    0% {\n",
              "      border-color: transparent;\n",
              "      border-bottom-color: var(--fill-color);\n",
              "      border-left-color: var(--fill-color);\n",
              "    }\n",
              "    20% {\n",
              "      border-color: transparent;\n",
              "      border-left-color: var(--fill-color);\n",
              "      border-top-color: var(--fill-color);\n",
              "    }\n",
              "    30% {\n",
              "      border-color: transparent;\n",
              "      border-left-color: var(--fill-color);\n",
              "      border-top-color: var(--fill-color);\n",
              "      border-right-color: var(--fill-color);\n",
              "    }\n",
              "    40% {\n",
              "      border-color: transparent;\n",
              "      border-right-color: var(--fill-color);\n",
              "      border-top-color: var(--fill-color);\n",
              "    }\n",
              "    60% {\n",
              "      border-color: transparent;\n",
              "      border-right-color: var(--fill-color);\n",
              "    }\n",
              "    80% {\n",
              "      border-color: transparent;\n",
              "      border-right-color: var(--fill-color);\n",
              "      border-bottom-color: var(--fill-color);\n",
              "    }\n",
              "    90% {\n",
              "      border-color: transparent;\n",
              "      border-bottom-color: var(--fill-color);\n",
              "    }\n",
              "  }\n",
              "</style>\n",
              "\n",
              "  <script>\n",
              "    async function quickchart(key) {\n",
              "      const quickchartButtonEl =\n",
              "        document.querySelector('#' + key + ' button');\n",
              "      quickchartButtonEl.disabled = true;  // To prevent multiple clicks.\n",
              "      quickchartButtonEl.classList.add('colab-df-spinner');\n",
              "      try {\n",
              "        const charts = await google.colab.kernel.invokeFunction(\n",
              "            'suggestCharts', [key], {});\n",
              "      } catch (error) {\n",
              "        console.error('Error during call to suggestCharts:', error);\n",
              "      }\n",
              "      quickchartButtonEl.classList.remove('colab-df-spinner');\n",
              "      quickchartButtonEl.classList.add('colab-df-quickchart-complete');\n",
              "    }\n",
              "    (() => {\n",
              "      let quickchartButtonEl =\n",
              "        document.querySelector('#df-ed0f88cb-92e2-4614-b60a-db50c20358c0 button');\n",
              "      quickchartButtonEl.style.display =\n",
              "        google.colab.kernel.accessAllowed ? 'block' : 'none';\n",
              "    })();\n",
              "  </script>\n",
              "</div>\n",
              "    </div>\n",
              "  </div>\n"
            ]
          },
          "metadata": {},
          "execution_count": 96
        }
      ]
    },
    {
      "cell_type": "markdown",
      "source": [
        "Remove Duplicate Rows"
      ],
      "metadata": {
        "id": "_gEsX21gE60i"
      }
    },
    {
      "cell_type": "code",
      "source": [
        "df = df.drop_duplicates()"
      ],
      "metadata": {
        "id": "zPW3_sxfE8yg"
      },
      "execution_count": null,
      "outputs": []
    },
    {
      "cell_type": "markdown",
      "source": [],
      "metadata": {
        "id": "1n4Z09rWLmnL"
      }
    },
    {
      "cell_type": "markdown",
      "source": [
        " Convert all text to lowercase for 'Prefered social media platform' column"
      ],
      "metadata": {
        "id": "Pwnds6xiLeog"
      }
    },
    {
      "cell_type": "code",
      "source": [
        "df['Prefered social media platform'] = df['Prefered social media platform'].str.lower()"
      ],
      "metadata": {
        "id": "Lqc6ABgGLfiV"
      },
      "execution_count": null,
      "outputs": []
    },
    {
      "cell_type": "markdown",
      "source": [
        "Convert 'Yes'/'No' answers to boolean for 'Health issue during lockdown'"
      ],
      "metadata": {
        "id": "uH8ki-SILqeV"
      }
    },
    {
      "cell_type": "code",
      "source": [
        "df['Health issue during lockdown'] = df['Health issue during lockdown'].map({'YES': 1, 'NO': 0})"
      ],
      "metadata": {
        "id": "0Off7LGYLt6f"
      },
      "execution_count": null,
      "outputs": []
    },
    {
      "cell_type": "markdown",
      "source": [
        "Replace missing values in 'Time spent on Online Class' with the mean"
      ],
      "metadata": {
        "id": "BNurrv-7L320"
      }
    },
    {
      "cell_type": "code",
      "source": [
        "df['Time spent on Online Class'] = df['Time spent on Online Class'].fillna(df['Time spent on Online Class'].mean())"
      ],
      "metadata": {
        "id": "GMcOGGCvL4w7"
      },
      "execution_count": null,
      "outputs": []
    },
    {
      "cell_type": "markdown",
      "source": [
        "Correct non-numeric values in 'Time spent on TV'"
      ],
      "metadata": {
        "id": "jUv7y1cNL8v7"
      }
    },
    {
      "cell_type": "code",
      "source": [
        "df['Time spent on TV'] = pd.to_numeric(df['Time spent on TV'], errors='coerce')\n",
        "df['Time spent on TV'] = df['Time spent on TV'].fillna(df['Time spent on TV'].median())"
      ],
      "metadata": {
        "id": "8KYSeaQEMFoa"
      },
      "execution_count": null,
      "outputs": []
    },
    {
      "cell_type": "markdown",
      "source": [
        "Trim whitespace from all string columns"
      ],
      "metadata": {
        "id": "Sosl-7oLMN7m"
      }
    },
    {
      "cell_type": "code",
      "source": [
        "df_obj = df.select_dtypes(['object'])\n",
        "df[df_obj.columns] = df_obj.apply(lambda x: x.str.strip())"
      ],
      "metadata": {
        "id": "tkEvybc5MSFE"
      },
      "execution_count": null,
      "outputs": []
    },
    {
      "cell_type": "markdown",
      "source": [
        "Rename columns to replace spaces with underscores and lowercase"
      ],
      "metadata": {
        "id": "IZSWZC9nMXA7"
      }
    },
    {
      "cell_type": "code",
      "source": [
        "df.columns = [col.strip().replace(' ', '_').lower() for col in df.columns]"
      ],
      "metadata": {
        "id": "kUPDwAdWMX05"
      },
      "execution_count": null,
      "outputs": []
    },
    {
      "cell_type": "markdown",
      "source": [
        "Convert ratings to ordinal scale"
      ],
      "metadata": {
        "id": "SH2W4JRxMohu"
      }
    },
    {
      "cell_type": "code",
      "source": [
        "ratings_scale = {'Very poor': 1, 'Poor': 2, 'Average': 3, 'Good': 4, 'Excellent': 5}\n",
        "df['rating_of_online_class_experience'] = df['rating_of_online_class_experience'].map(ratings_scale)"
      ],
      "metadata": {
        "id": "VI_7OX94MpaO"
      },
      "execution_count": null,
      "outputs": []
    },
    {
      "cell_type": "markdown",
      "source": [
        "Fill missing values in 'Time spent on self study' with median"
      ],
      "metadata": {
        "id": "MCkpfWsHMtjr"
      }
    },
    {
      "cell_type": "code",
      "source": [
        "df['time_spent_on_self_study'] = df['time_spent_on_self_study'].fillna(df['time_spent_on_self_study'].median())"
      ],
      "metadata": {
        "id": "00KgxGxQMyC5"
      },
      "execution_count": null,
      "outputs": []
    },
    {
      "cell_type": "markdown",
      "source": [
        "Display the cleaned DataFrame"
      ],
      "metadata": {
        "id": "vS9HibRKM4Yy"
      }
    },
    {
      "cell_type": "code",
      "source": [
        "df.head()"
      ],
      "metadata": {
        "colab": {
          "base_uri": "https://localhost:8080/",
          "height": 278
        },
        "id": "Rhvmqaw6M5JX",
        "outputId": "6eb67cf9-9b57-4b6f-8a6a-08dff141e993"
      },
      "execution_count": null,
      "outputs": [
        {
          "output_type": "execute_result",
          "data": {
            "text/plain": [
              "   id region_of_residence  age_of_subject  time_spent_on_online_class  \\\n",
              "0  R1           Delhi-NCR              21                         2.0   \n",
              "1  R2           Delhi-NCR              21                         0.0   \n",
              "2  R3           Delhi-NCR              20                         7.0   \n",
              "3  R4           Delhi-NCR              20                         3.0   \n",
              "4  R5           Delhi-NCR              21                         3.0   \n",
              "\n",
              "   rating_of_online_class_experience medium_for_online_class  \\\n",
              "0                                4.0          Laptop/Desktop   \n",
              "1                                5.0              Smartphone   \n",
              "2                                1.0          Laptop/Desktop   \n",
              "3                                1.0              Smartphone   \n",
              "4                                4.0          Laptop/Desktop   \n",
              "\n",
              "   time_spent_on_self_study  time_spent_on_fitness  time_spent_on_sleep  \\\n",
              "0                       4.0                    0.0                  7.0   \n",
              "1                       0.0                    2.0                 10.0   \n",
              "2                       3.0                    0.0                  6.0   \n",
              "3                       2.0                    1.0                  6.0   \n",
              "4                       3.0                    1.0                  8.0   \n",
              "\n",
              "   time_spent_on_social_media prefered_social_media_platform  \\\n",
              "0                         3.0                       linkedin   \n",
              "1                         3.0                        youtube   \n",
              "2                         2.0                       linkedin   \n",
              "3                         5.0                      instagram   \n",
              "4                         3.0                      instagram   \n",
              "\n",
              "   time_spent_on_tv  number_of_meals_per_day change_in_your_weight  \\\n",
              "0               1.0                        4             Increased   \n",
              "1               0.0                        3             Decreased   \n",
              "2               0.0                        3       Remain Constant   \n",
              "3               0.0                        3             Decreased   \n",
              "4               1.0                        4       Remain Constant   \n",
              "\n",
              "   health_issue_during_lockdown                  stress_busters time_utilized  \\\n",
              "0                             0                         Cooking           YES   \n",
              "1                             0  Scrolling through social media           YES   \n",
              "2                             0              Listening to music            NO   \n",
              "3                             0             Watching web series            NO   \n",
              "4                             0                    Social Media            NO   \n",
              "\n",
              "  do_you_find_yourself_more_connected_with_your_family,_close_friends_,_relatives__?  \\\n",
              "0                                                YES                                   \n",
              "1                                                 NO                                   \n",
              "2                                                YES                                   \n",
              "3                                                 NO                                   \n",
              "4                                                 NO                                   \n",
              "\n",
              "  what_you_miss_the_most  \n",
              "0         School/college  \n",
              "1  Roaming around freely  \n",
              "2             Travelling  \n",
              "3    Friends , relatives  \n",
              "4             Travelling  "
            ],
            "text/html": [
              "\n",
              "  <div id=\"df-fb895bcf-1426-4a56-b43c-f5165ff2f648\" class=\"colab-df-container\">\n",
              "    <div>\n",
              "<style scoped>\n",
              "    .dataframe tbody tr th:only-of-type {\n",
              "        vertical-align: middle;\n",
              "    }\n",
              "\n",
              "    .dataframe tbody tr th {\n",
              "        vertical-align: top;\n",
              "    }\n",
              "\n",
              "    .dataframe thead th {\n",
              "        text-align: right;\n",
              "    }\n",
              "</style>\n",
              "<table border=\"1\" class=\"dataframe\">\n",
              "  <thead>\n",
              "    <tr style=\"text-align: right;\">\n",
              "      <th></th>\n",
              "      <th>id</th>\n",
              "      <th>region_of_residence</th>\n",
              "      <th>age_of_subject</th>\n",
              "      <th>time_spent_on_online_class</th>\n",
              "      <th>rating_of_online_class_experience</th>\n",
              "      <th>medium_for_online_class</th>\n",
              "      <th>time_spent_on_self_study</th>\n",
              "      <th>time_spent_on_fitness</th>\n",
              "      <th>time_spent_on_sleep</th>\n",
              "      <th>time_spent_on_social_media</th>\n",
              "      <th>prefered_social_media_platform</th>\n",
              "      <th>time_spent_on_tv</th>\n",
              "      <th>number_of_meals_per_day</th>\n",
              "      <th>change_in_your_weight</th>\n",
              "      <th>health_issue_during_lockdown</th>\n",
              "      <th>stress_busters</th>\n",
              "      <th>time_utilized</th>\n",
              "      <th>do_you_find_yourself_more_connected_with_your_family,_close_friends_,_relatives__?</th>\n",
              "      <th>what_you_miss_the_most</th>\n",
              "    </tr>\n",
              "  </thead>\n",
              "  <tbody>\n",
              "    <tr>\n",
              "      <th>0</th>\n",
              "      <td>R1</td>\n",
              "      <td>Delhi-NCR</td>\n",
              "      <td>21</td>\n",
              "      <td>2.0</td>\n",
              "      <td>4.0</td>\n",
              "      <td>Laptop/Desktop</td>\n",
              "      <td>4.0</td>\n",
              "      <td>0.0</td>\n",
              "      <td>7.0</td>\n",
              "      <td>3.0</td>\n",
              "      <td>linkedin</td>\n",
              "      <td>1.0</td>\n",
              "      <td>4</td>\n",
              "      <td>Increased</td>\n",
              "      <td>0</td>\n",
              "      <td>Cooking</td>\n",
              "      <td>YES</td>\n",
              "      <td>YES</td>\n",
              "      <td>School/college</td>\n",
              "    </tr>\n",
              "    <tr>\n",
              "      <th>1</th>\n",
              "      <td>R2</td>\n",
              "      <td>Delhi-NCR</td>\n",
              "      <td>21</td>\n",
              "      <td>0.0</td>\n",
              "      <td>5.0</td>\n",
              "      <td>Smartphone</td>\n",
              "      <td>0.0</td>\n",
              "      <td>2.0</td>\n",
              "      <td>10.0</td>\n",
              "      <td>3.0</td>\n",
              "      <td>youtube</td>\n",
              "      <td>0.0</td>\n",
              "      <td>3</td>\n",
              "      <td>Decreased</td>\n",
              "      <td>0</td>\n",
              "      <td>Scrolling through social media</td>\n",
              "      <td>YES</td>\n",
              "      <td>NO</td>\n",
              "      <td>Roaming around freely</td>\n",
              "    </tr>\n",
              "    <tr>\n",
              "      <th>2</th>\n",
              "      <td>R3</td>\n",
              "      <td>Delhi-NCR</td>\n",
              "      <td>20</td>\n",
              "      <td>7.0</td>\n",
              "      <td>1.0</td>\n",
              "      <td>Laptop/Desktop</td>\n",
              "      <td>3.0</td>\n",
              "      <td>0.0</td>\n",
              "      <td>6.0</td>\n",
              "      <td>2.0</td>\n",
              "      <td>linkedin</td>\n",
              "      <td>0.0</td>\n",
              "      <td>3</td>\n",
              "      <td>Remain Constant</td>\n",
              "      <td>0</td>\n",
              "      <td>Listening to music</td>\n",
              "      <td>NO</td>\n",
              "      <td>YES</td>\n",
              "      <td>Travelling</td>\n",
              "    </tr>\n",
              "    <tr>\n",
              "      <th>3</th>\n",
              "      <td>R4</td>\n",
              "      <td>Delhi-NCR</td>\n",
              "      <td>20</td>\n",
              "      <td>3.0</td>\n",
              "      <td>1.0</td>\n",
              "      <td>Smartphone</td>\n",
              "      <td>2.0</td>\n",
              "      <td>1.0</td>\n",
              "      <td>6.0</td>\n",
              "      <td>5.0</td>\n",
              "      <td>instagram</td>\n",
              "      <td>0.0</td>\n",
              "      <td>3</td>\n",
              "      <td>Decreased</td>\n",
              "      <td>0</td>\n",
              "      <td>Watching web series</td>\n",
              "      <td>NO</td>\n",
              "      <td>NO</td>\n",
              "      <td>Friends , relatives</td>\n",
              "    </tr>\n",
              "    <tr>\n",
              "      <th>4</th>\n",
              "      <td>R5</td>\n",
              "      <td>Delhi-NCR</td>\n",
              "      <td>21</td>\n",
              "      <td>3.0</td>\n",
              "      <td>4.0</td>\n",
              "      <td>Laptop/Desktop</td>\n",
              "      <td>3.0</td>\n",
              "      <td>1.0</td>\n",
              "      <td>8.0</td>\n",
              "      <td>3.0</td>\n",
              "      <td>instagram</td>\n",
              "      <td>1.0</td>\n",
              "      <td>4</td>\n",
              "      <td>Remain Constant</td>\n",
              "      <td>0</td>\n",
              "      <td>Social Media</td>\n",
              "      <td>NO</td>\n",
              "      <td>NO</td>\n",
              "      <td>Travelling</td>\n",
              "    </tr>\n",
              "  </tbody>\n",
              "</table>\n",
              "</div>\n",
              "    <div class=\"colab-df-buttons\">\n",
              "\n",
              "  <div class=\"colab-df-container\">\n",
              "    <button class=\"colab-df-convert\" onclick=\"convertToInteractive('df-fb895bcf-1426-4a56-b43c-f5165ff2f648')\"\n",
              "            title=\"Convert this dataframe to an interactive table.\"\n",
              "            style=\"display:none;\">\n",
              "\n",
              "  <svg xmlns=\"http://www.w3.org/2000/svg\" height=\"24px\" viewBox=\"0 -960 960 960\">\n",
              "    <path d=\"M120-120v-720h720v720H120Zm60-500h600v-160H180v160Zm220 220h160v-160H400v160Zm0 220h160v-160H400v160ZM180-400h160v-160H180v160Zm440 0h160v-160H620v160ZM180-180h160v-160H180v160Zm440 0h160v-160H620v160Z\"/>\n",
              "  </svg>\n",
              "    </button>\n",
              "\n",
              "  <style>\n",
              "    .colab-df-container {\n",
              "      display:flex;\n",
              "      gap: 12px;\n",
              "    }\n",
              "\n",
              "    .colab-df-convert {\n",
              "      background-color: #E8F0FE;\n",
              "      border: none;\n",
              "      border-radius: 50%;\n",
              "      cursor: pointer;\n",
              "      display: none;\n",
              "      fill: #1967D2;\n",
              "      height: 32px;\n",
              "      padding: 0 0 0 0;\n",
              "      width: 32px;\n",
              "    }\n",
              "\n",
              "    .colab-df-convert:hover {\n",
              "      background-color: #E2EBFA;\n",
              "      box-shadow: 0px 1px 2px rgba(60, 64, 67, 0.3), 0px 1px 3px 1px rgba(60, 64, 67, 0.15);\n",
              "      fill: #174EA6;\n",
              "    }\n",
              "\n",
              "    .colab-df-buttons div {\n",
              "      margin-bottom: 4px;\n",
              "    }\n",
              "\n",
              "    [theme=dark] .colab-df-convert {\n",
              "      background-color: #3B4455;\n",
              "      fill: #D2E3FC;\n",
              "    }\n",
              "\n",
              "    [theme=dark] .colab-df-convert:hover {\n",
              "      background-color: #434B5C;\n",
              "      box-shadow: 0px 1px 3px 1px rgba(0, 0, 0, 0.15);\n",
              "      filter: drop-shadow(0px 1px 2px rgba(0, 0, 0, 0.3));\n",
              "      fill: #FFFFFF;\n",
              "    }\n",
              "  </style>\n",
              "\n",
              "    <script>\n",
              "      const buttonEl =\n",
              "        document.querySelector('#df-fb895bcf-1426-4a56-b43c-f5165ff2f648 button.colab-df-convert');\n",
              "      buttonEl.style.display =\n",
              "        google.colab.kernel.accessAllowed ? 'block' : 'none';\n",
              "\n",
              "      async function convertToInteractive(key) {\n",
              "        const element = document.querySelector('#df-fb895bcf-1426-4a56-b43c-f5165ff2f648');\n",
              "        const dataTable =\n",
              "          await google.colab.kernel.invokeFunction('convertToInteractive',\n",
              "                                                    [key], {});\n",
              "        if (!dataTable) return;\n",
              "\n",
              "        const docLinkHtml = 'Like what you see? Visit the ' +\n",
              "          '<a target=\"_blank\" href=https://colab.research.google.com/notebooks/data_table.ipynb>data table notebook</a>'\n",
              "          + ' to learn more about interactive tables.';\n",
              "        element.innerHTML = '';\n",
              "        dataTable['output_type'] = 'display_data';\n",
              "        await google.colab.output.renderOutput(dataTable, element);\n",
              "        const docLink = document.createElement('div');\n",
              "        docLink.innerHTML = docLinkHtml;\n",
              "        element.appendChild(docLink);\n",
              "      }\n",
              "    </script>\n",
              "  </div>\n",
              "\n",
              "\n",
              "<div id=\"df-f4dc7d5c-9fc2-4715-b040-b064a8372018\">\n",
              "  <button class=\"colab-df-quickchart\" onclick=\"quickchart('df-f4dc7d5c-9fc2-4715-b040-b064a8372018')\"\n",
              "            title=\"Suggest charts\"\n",
              "            style=\"display:none;\">\n",
              "\n",
              "<svg xmlns=\"http://www.w3.org/2000/svg\" height=\"24px\"viewBox=\"0 0 24 24\"\n",
              "     width=\"24px\">\n",
              "    <g>\n",
              "        <path d=\"M19 3H5c-1.1 0-2 .9-2 2v14c0 1.1.9 2 2 2h14c1.1 0 2-.9 2-2V5c0-1.1-.9-2-2-2zM9 17H7v-7h2v7zm4 0h-2V7h2v10zm4 0h-2v-4h2v4z\"/>\n",
              "    </g>\n",
              "</svg>\n",
              "  </button>\n",
              "\n",
              "<style>\n",
              "  .colab-df-quickchart {\n",
              "      --bg-color: #E8F0FE;\n",
              "      --fill-color: #1967D2;\n",
              "      --hover-bg-color: #E2EBFA;\n",
              "      --hover-fill-color: #174EA6;\n",
              "      --disabled-fill-color: #AAA;\n",
              "      --disabled-bg-color: #DDD;\n",
              "  }\n",
              "\n",
              "  [theme=dark] .colab-df-quickchart {\n",
              "      --bg-color: #3B4455;\n",
              "      --fill-color: #D2E3FC;\n",
              "      --hover-bg-color: #434B5C;\n",
              "      --hover-fill-color: #FFFFFF;\n",
              "      --disabled-bg-color: #3B4455;\n",
              "      --disabled-fill-color: #666;\n",
              "  }\n",
              "\n",
              "  .colab-df-quickchart {\n",
              "    background-color: var(--bg-color);\n",
              "    border: none;\n",
              "    border-radius: 50%;\n",
              "    cursor: pointer;\n",
              "    display: none;\n",
              "    fill: var(--fill-color);\n",
              "    height: 32px;\n",
              "    padding: 0;\n",
              "    width: 32px;\n",
              "  }\n",
              "\n",
              "  .colab-df-quickchart:hover {\n",
              "    background-color: var(--hover-bg-color);\n",
              "    box-shadow: 0 1px 2px rgba(60, 64, 67, 0.3), 0 1px 3px 1px rgba(60, 64, 67, 0.15);\n",
              "    fill: var(--button-hover-fill-color);\n",
              "  }\n",
              "\n",
              "  .colab-df-quickchart-complete:disabled,\n",
              "  .colab-df-quickchart-complete:disabled:hover {\n",
              "    background-color: var(--disabled-bg-color);\n",
              "    fill: var(--disabled-fill-color);\n",
              "    box-shadow: none;\n",
              "  }\n",
              "\n",
              "  .colab-df-spinner {\n",
              "    border: 2px solid var(--fill-color);\n",
              "    border-color: transparent;\n",
              "    border-bottom-color: var(--fill-color);\n",
              "    animation:\n",
              "      spin 1s steps(1) infinite;\n",
              "  }\n",
              "\n",
              "  @keyframes spin {\n",
              "    0% {\n",
              "      border-color: transparent;\n",
              "      border-bottom-color: var(--fill-color);\n",
              "      border-left-color: var(--fill-color);\n",
              "    }\n",
              "    20% {\n",
              "      border-color: transparent;\n",
              "      border-left-color: var(--fill-color);\n",
              "      border-top-color: var(--fill-color);\n",
              "    }\n",
              "    30% {\n",
              "      border-color: transparent;\n",
              "      border-left-color: var(--fill-color);\n",
              "      border-top-color: var(--fill-color);\n",
              "      border-right-color: var(--fill-color);\n",
              "    }\n",
              "    40% {\n",
              "      border-color: transparent;\n",
              "      border-right-color: var(--fill-color);\n",
              "      border-top-color: var(--fill-color);\n",
              "    }\n",
              "    60% {\n",
              "      border-color: transparent;\n",
              "      border-right-color: var(--fill-color);\n",
              "    }\n",
              "    80% {\n",
              "      border-color: transparent;\n",
              "      border-right-color: var(--fill-color);\n",
              "      border-bottom-color: var(--fill-color);\n",
              "    }\n",
              "    90% {\n",
              "      border-color: transparent;\n",
              "      border-bottom-color: var(--fill-color);\n",
              "    }\n",
              "  }\n",
              "</style>\n",
              "\n",
              "  <script>\n",
              "    async function quickchart(key) {\n",
              "      const quickchartButtonEl =\n",
              "        document.querySelector('#' + key + ' button');\n",
              "      quickchartButtonEl.disabled = true;  // To prevent multiple clicks.\n",
              "      quickchartButtonEl.classList.add('colab-df-spinner');\n",
              "      try {\n",
              "        const charts = await google.colab.kernel.invokeFunction(\n",
              "            'suggestCharts', [key], {});\n",
              "      } catch (error) {\n",
              "        console.error('Error during call to suggestCharts:', error);\n",
              "      }\n",
              "      quickchartButtonEl.classList.remove('colab-df-spinner');\n",
              "      quickchartButtonEl.classList.add('colab-df-quickchart-complete');\n",
              "    }\n",
              "    (() => {\n",
              "      let quickchartButtonEl =\n",
              "        document.querySelector('#df-f4dc7d5c-9fc2-4715-b040-b064a8372018 button');\n",
              "      quickchartButtonEl.style.display =\n",
              "        google.colab.kernel.accessAllowed ? 'block' : 'none';\n",
              "    })();\n",
              "  </script>\n",
              "</div>\n",
              "    </div>\n",
              "  </div>\n"
            ]
          },
          "metadata": {},
          "execution_count": 48
        }
      ]
    },
    {
      "cell_type": "markdown",
      "source": [
        "# Data Manipulation"
      ],
      "metadata": {
        "id": "XTR800C9PQ0S"
      }
    },
    {
      "cell_type": "markdown",
      "source": [
        "Analyzing Daily Routines and Preferences of Students"
      ],
      "metadata": {
        "id": "HV8dfCNoPfCt"
      }
    },
    {
      "cell_type": "markdown",
      "source": [
        "Column for Total Study Time"
      ],
      "metadata": {
        "id": "9eoBkAuVP56A"
      }
    },
    {
      "cell_type": "code",
      "source": [
        "df['total_study_time'] = df['Time spent on Online Class'] + df['Time spent on self study']"
      ],
      "metadata": {
        "id": "79TzxgjGPVHo"
      },
      "execution_count": null,
      "outputs": []
    },
    {
      "cell_type": "markdown",
      "source": [
        "Categorize Age Groups"
      ],
      "metadata": {
        "id": "RF2SgTl7Qez1"
      }
    },
    {
      "cell_type": "code",
      "source": [
        "bins = [0, 18, 22, 26, 30]\n",
        "labels = ['Under 18', '18-22', '22-26', '26-30']\n",
        "df['age_group'] = pd.cut(df['Age of Subject'], bins=bins, labels=labels, right=False)"
      ],
      "metadata": {
        "id": "cY5Ruy7mQftz"
      },
      "execution_count": null,
      "outputs": []
    },
    {
      "cell_type": "markdown",
      "source": [
        "Aggregate Data for Health Issues"
      ],
      "metadata": {
        "id": "quhs_q_MRNPd"
      }
    },
    {
      "cell_type": "code",
      "source": [
        "health_issues_percentage = (df['Health issue during lockdown'] == 'YES').mean() * 100"
      ],
      "metadata": {
        "id": "54pjkfONROKx"
      },
      "execution_count": null,
      "outputs": []
    },
    {
      "cell_type": "markdown",
      "source": [
        "Preferred Social Media Analysis"
      ],
      "metadata": {
        "id": "Pbir9sA3Ra0r"
      }
    },
    {
      "cell_type": "code",
      "source": [
        "most_preferred_social_media = df['Prefered social media platform'].mode()[0]"
      ],
      "metadata": {
        "id": "M6oMaHdRRbvm"
      },
      "execution_count": null,
      "outputs": []
    },
    {
      "cell_type": "markdown",
      "source": [
        "Average Time Spent on Fitness"
      ],
      "metadata": {
        "id": "ovzQBDq2Rgqv"
      }
    },
    {
      "cell_type": "code",
      "source": [
        "average_fitness_time = df['Time spent on fitness'].mean()"
      ],
      "metadata": {
        "id": "20DJKnspRhL3"
      },
      "execution_count": null,
      "outputs": []
    },
    {
      "cell_type": "markdown",
      "source": [
        "Create a Sleep Category"
      ],
      "metadata": {
        "id": "cahE_-FFRsTp"
      }
    },
    {
      "cell_type": "code",
      "source": [
        "def categorize_sleep(hours):\n",
        "    if hours < 6:\n",
        "        return 'Insufficient'\n",
        "    elif 6 <= hours <= 8:\n",
        "        return 'Adequate'\n",
        "    else:\n",
        "        return 'Excessive'\n",
        "df['sleep_category'] = df['Time spent on sleep'].apply(categorize_sleep)"
      ],
      "metadata": {
        "id": "3GH-ckpfRtKT"
      },
      "execution_count": null,
      "outputs": []
    },
    {
      "cell_type": "markdown",
      "source": [
        "Weight Change Distribution"
      ],
      "metadata": {
        "id": "a7Ugo7eyRzEV"
      }
    },
    {
      "cell_type": "code",
      "source": [
        "weight_change_distribution = df['Change in your weight'].value_counts()"
      ],
      "metadata": {
        "id": "nu0jYcFbRzpH"
      },
      "execution_count": null,
      "outputs": []
    },
    {
      "cell_type": "markdown",
      "source": [
        "Online Class Experience Rating"
      ],
      "metadata": {
        "id": "lD2wAv6GR35Y"
      }
    },
    {
      "cell_type": "code",
      "source": [
        "ratings_mapping = {'Very poor': 1, 'Poor': 2, 'Average': 3, 'Good': 4, 'Excellent': 5}\n",
        "df['online_class_experience_rating'] = df['Rating of Online Class experience'].map(ratings_mapping)"
      ],
      "metadata": {
        "id": "WODGr6tLR4v4"
      },
      "execution_count": null,
      "outputs": []
    },
    {
      "cell_type": "markdown",
      "source": [
        "Time Utilization Efficiency"
      ],
      "metadata": {
        "id": "gFspX5klSCf_"
      }
    },
    {
      "cell_type": "code",
      "source": [
        "df['time_utilization_efficient'] = df['Time spent on self study'] >= 2"
      ],
      "metadata": {
        "id": "qcFtCmt4SFNy"
      },
      "execution_count": null,
      "outputs": []
    },
    {
      "cell_type": "markdown",
      "source": [
        "Family Connection during Lockdown"
      ],
      "metadata": {
        "id": "tZ9KPc4-SPch"
      }
    },
    {
      "cell_type": "code",
      "source": [
        "family_connection_during_lockdown = (df['Do you find yourself more connected with your family, close friends , relatives  ?'] == 'YES').sum()"
      ],
      "metadata": {
        "id": "fF1ugkNjSQUf"
      },
      "execution_count": null,
      "outputs": []
    },
    {
      "cell_type": "markdown",
      "source": [
        "Display some of the manipulated data"
      ],
      "metadata": {
        "id": "ZRPz_9cVSS0P"
      }
    },
    {
      "cell_type": "code",
      "source": [
        "df.head()"
      ],
      "metadata": {
        "colab": {
          "base_uri": "https://localhost:8080/",
          "height": 551
        },
        "id": "F0HcApdMSVU0",
        "outputId": "c8b824a1-395a-43f1-f50a-8c8467a1746b"
      },
      "execution_count": null,
      "outputs": [
        {
          "output_type": "execute_result",
          "data": {
            "text/plain": [
              "   ID Region of residence  Age of Subject  Time spent on Online Class  \\\n",
              "0  R1           Delhi-NCR              21                         2.0   \n",
              "1  R2           Delhi-NCR              21                         0.0   \n",
              "2  R3           Delhi-NCR              20                         7.0   \n",
              "3  R4           Delhi-NCR              20                         3.0   \n",
              "4  R5           Delhi-NCR              21                         3.0   \n",
              "\n",
              "  Rating of Online Class experience Medium for online class  \\\n",
              "0                              Good          Laptop/Desktop   \n",
              "1                         Excellent              Smartphone   \n",
              "2                         Very poor          Laptop/Desktop   \n",
              "3                         Very poor              Smartphone   \n",
              "4                              Good          Laptop/Desktop   \n",
              "\n",
              "   Time spent on self study  Time spent on fitness  Time spent on sleep  \\\n",
              "0                       4.0                    0.0                  7.0   \n",
              "1                       0.0                    2.0                 10.0   \n",
              "2                       3.0                    0.0                  6.0   \n",
              "3                       2.0                    1.0                  6.0   \n",
              "4                       3.0                    1.0                  8.0   \n",
              "\n",
              "   Time spent on social media  ... Health issue during lockdown  \\\n",
              "0                         3.0  ...                           NO   \n",
              "1                         3.0  ...                           NO   \n",
              "2                         2.0  ...                           NO   \n",
              "3                         5.0  ...                           NO   \n",
              "4                         3.0  ...                           NO   \n",
              "\n",
              "                   Stress busters  Time utilized  \\\n",
              "0                         Cooking            YES   \n",
              "1  Scrolling through social media            YES   \n",
              "2              Listening to music             NO   \n",
              "3             Watching web series             NO   \n",
              "4                    Social Media             NO   \n",
              "\n",
              "  Do you find yourself more connected with your family, close friends , relatives  ?  \\\n",
              "0                                                YES                                   \n",
              "1                                                 NO                                   \n",
              "2                                                YES                                   \n",
              "3                                                 NO                                   \n",
              "4                                                 NO                                   \n",
              "\n",
              "  What you miss the most total_study_time age_group sleep_category  \\\n",
              "0         School/college              6.0     18-22       Adequate   \n",
              "1  Roaming around freely              0.0     18-22      Excessive   \n",
              "2             Travelling             10.0     18-22       Adequate   \n",
              "3    Friends , relatives              5.0     18-22       Adequate   \n",
              "4             Travelling              6.0     18-22       Adequate   \n",
              "\n",
              "  online_class_experience_rating  time_utilization_efficient  \n",
              "0                            4.0                        True  \n",
              "1                            5.0                       False  \n",
              "2                            1.0                        True  \n",
              "3                            1.0                        True  \n",
              "4                            4.0                        True  \n",
              "\n",
              "[5 rows x 24 columns]"
            ],
            "text/html": [
              "\n",
              "  <div id=\"df-080c0d4b-7a6f-4d1a-893b-afc0383a0f4c\" class=\"colab-df-container\">\n",
              "    <div>\n",
              "<style scoped>\n",
              "    .dataframe tbody tr th:only-of-type {\n",
              "        vertical-align: middle;\n",
              "    }\n",
              "\n",
              "    .dataframe tbody tr th {\n",
              "        vertical-align: top;\n",
              "    }\n",
              "\n",
              "    .dataframe thead th {\n",
              "        text-align: right;\n",
              "    }\n",
              "</style>\n",
              "<table border=\"1\" class=\"dataframe\">\n",
              "  <thead>\n",
              "    <tr style=\"text-align: right;\">\n",
              "      <th></th>\n",
              "      <th>ID</th>\n",
              "      <th>Region of residence</th>\n",
              "      <th>Age of Subject</th>\n",
              "      <th>Time spent on Online Class</th>\n",
              "      <th>Rating of Online Class experience</th>\n",
              "      <th>Medium for online class</th>\n",
              "      <th>Time spent on self study</th>\n",
              "      <th>Time spent on fitness</th>\n",
              "      <th>Time spent on sleep</th>\n",
              "      <th>Time spent on social media</th>\n",
              "      <th>...</th>\n",
              "      <th>Health issue during lockdown</th>\n",
              "      <th>Stress busters</th>\n",
              "      <th>Time utilized</th>\n",
              "      <th>Do you find yourself more connected with your family, close friends , relatives  ?</th>\n",
              "      <th>What you miss the most</th>\n",
              "      <th>total_study_time</th>\n",
              "      <th>age_group</th>\n",
              "      <th>sleep_category</th>\n",
              "      <th>online_class_experience_rating</th>\n",
              "      <th>time_utilization_efficient</th>\n",
              "    </tr>\n",
              "  </thead>\n",
              "  <tbody>\n",
              "    <tr>\n",
              "      <th>0</th>\n",
              "      <td>R1</td>\n",
              "      <td>Delhi-NCR</td>\n",
              "      <td>21</td>\n",
              "      <td>2.0</td>\n",
              "      <td>Good</td>\n",
              "      <td>Laptop/Desktop</td>\n",
              "      <td>4.0</td>\n",
              "      <td>0.0</td>\n",
              "      <td>7.0</td>\n",
              "      <td>3.0</td>\n",
              "      <td>...</td>\n",
              "      <td>NO</td>\n",
              "      <td>Cooking</td>\n",
              "      <td>YES</td>\n",
              "      <td>YES</td>\n",
              "      <td>School/college</td>\n",
              "      <td>6.0</td>\n",
              "      <td>18-22</td>\n",
              "      <td>Adequate</td>\n",
              "      <td>4.0</td>\n",
              "      <td>True</td>\n",
              "    </tr>\n",
              "    <tr>\n",
              "      <th>1</th>\n",
              "      <td>R2</td>\n",
              "      <td>Delhi-NCR</td>\n",
              "      <td>21</td>\n",
              "      <td>0.0</td>\n",
              "      <td>Excellent</td>\n",
              "      <td>Smartphone</td>\n",
              "      <td>0.0</td>\n",
              "      <td>2.0</td>\n",
              "      <td>10.0</td>\n",
              "      <td>3.0</td>\n",
              "      <td>...</td>\n",
              "      <td>NO</td>\n",
              "      <td>Scrolling through social media</td>\n",
              "      <td>YES</td>\n",
              "      <td>NO</td>\n",
              "      <td>Roaming around freely</td>\n",
              "      <td>0.0</td>\n",
              "      <td>18-22</td>\n",
              "      <td>Excessive</td>\n",
              "      <td>5.0</td>\n",
              "      <td>False</td>\n",
              "    </tr>\n",
              "    <tr>\n",
              "      <th>2</th>\n",
              "      <td>R3</td>\n",
              "      <td>Delhi-NCR</td>\n",
              "      <td>20</td>\n",
              "      <td>7.0</td>\n",
              "      <td>Very poor</td>\n",
              "      <td>Laptop/Desktop</td>\n",
              "      <td>3.0</td>\n",
              "      <td>0.0</td>\n",
              "      <td>6.0</td>\n",
              "      <td>2.0</td>\n",
              "      <td>...</td>\n",
              "      <td>NO</td>\n",
              "      <td>Listening to music</td>\n",
              "      <td>NO</td>\n",
              "      <td>YES</td>\n",
              "      <td>Travelling</td>\n",
              "      <td>10.0</td>\n",
              "      <td>18-22</td>\n",
              "      <td>Adequate</td>\n",
              "      <td>1.0</td>\n",
              "      <td>True</td>\n",
              "    </tr>\n",
              "    <tr>\n",
              "      <th>3</th>\n",
              "      <td>R4</td>\n",
              "      <td>Delhi-NCR</td>\n",
              "      <td>20</td>\n",
              "      <td>3.0</td>\n",
              "      <td>Very poor</td>\n",
              "      <td>Smartphone</td>\n",
              "      <td>2.0</td>\n",
              "      <td>1.0</td>\n",
              "      <td>6.0</td>\n",
              "      <td>5.0</td>\n",
              "      <td>...</td>\n",
              "      <td>NO</td>\n",
              "      <td>Watching web series</td>\n",
              "      <td>NO</td>\n",
              "      <td>NO</td>\n",
              "      <td>Friends , relatives</td>\n",
              "      <td>5.0</td>\n",
              "      <td>18-22</td>\n",
              "      <td>Adequate</td>\n",
              "      <td>1.0</td>\n",
              "      <td>True</td>\n",
              "    </tr>\n",
              "    <tr>\n",
              "      <th>4</th>\n",
              "      <td>R5</td>\n",
              "      <td>Delhi-NCR</td>\n",
              "      <td>21</td>\n",
              "      <td>3.0</td>\n",
              "      <td>Good</td>\n",
              "      <td>Laptop/Desktop</td>\n",
              "      <td>3.0</td>\n",
              "      <td>1.0</td>\n",
              "      <td>8.0</td>\n",
              "      <td>3.0</td>\n",
              "      <td>...</td>\n",
              "      <td>NO</td>\n",
              "      <td>Social Media</td>\n",
              "      <td>NO</td>\n",
              "      <td>NO</td>\n",
              "      <td>Travelling</td>\n",
              "      <td>6.0</td>\n",
              "      <td>18-22</td>\n",
              "      <td>Adequate</td>\n",
              "      <td>4.0</td>\n",
              "      <td>True</td>\n",
              "    </tr>\n",
              "  </tbody>\n",
              "</table>\n",
              "<p>5 rows × 24 columns</p>\n",
              "</div>\n",
              "    <div class=\"colab-df-buttons\">\n",
              "\n",
              "  <div class=\"colab-df-container\">\n",
              "    <button class=\"colab-df-convert\" onclick=\"convertToInteractive('df-080c0d4b-7a6f-4d1a-893b-afc0383a0f4c')\"\n",
              "            title=\"Convert this dataframe to an interactive table.\"\n",
              "            style=\"display:none;\">\n",
              "\n",
              "  <svg xmlns=\"http://www.w3.org/2000/svg\" height=\"24px\" viewBox=\"0 -960 960 960\">\n",
              "    <path d=\"M120-120v-720h720v720H120Zm60-500h600v-160H180v160Zm220 220h160v-160H400v160Zm0 220h160v-160H400v160ZM180-400h160v-160H180v160Zm440 0h160v-160H620v160ZM180-180h160v-160H180v160Zm440 0h160v-160H620v160Z\"/>\n",
              "  </svg>\n",
              "    </button>\n",
              "\n",
              "  <style>\n",
              "    .colab-df-container {\n",
              "      display:flex;\n",
              "      gap: 12px;\n",
              "    }\n",
              "\n",
              "    .colab-df-convert {\n",
              "      background-color: #E8F0FE;\n",
              "      border: none;\n",
              "      border-radius: 50%;\n",
              "      cursor: pointer;\n",
              "      display: none;\n",
              "      fill: #1967D2;\n",
              "      height: 32px;\n",
              "      padding: 0 0 0 0;\n",
              "      width: 32px;\n",
              "    }\n",
              "\n",
              "    .colab-df-convert:hover {\n",
              "      background-color: #E2EBFA;\n",
              "      box-shadow: 0px 1px 2px rgba(60, 64, 67, 0.3), 0px 1px 3px 1px rgba(60, 64, 67, 0.15);\n",
              "      fill: #174EA6;\n",
              "    }\n",
              "\n",
              "    .colab-df-buttons div {\n",
              "      margin-bottom: 4px;\n",
              "    }\n",
              "\n",
              "    [theme=dark] .colab-df-convert {\n",
              "      background-color: #3B4455;\n",
              "      fill: #D2E3FC;\n",
              "    }\n",
              "\n",
              "    [theme=dark] .colab-df-convert:hover {\n",
              "      background-color: #434B5C;\n",
              "      box-shadow: 0px 1px 3px 1px rgba(0, 0, 0, 0.15);\n",
              "      filter: drop-shadow(0px 1px 2px rgba(0, 0, 0, 0.3));\n",
              "      fill: #FFFFFF;\n",
              "    }\n",
              "  </style>\n",
              "\n",
              "    <script>\n",
              "      const buttonEl =\n",
              "        document.querySelector('#df-080c0d4b-7a6f-4d1a-893b-afc0383a0f4c button.colab-df-convert');\n",
              "      buttonEl.style.display =\n",
              "        google.colab.kernel.accessAllowed ? 'block' : 'none';\n",
              "\n",
              "      async function convertToInteractive(key) {\n",
              "        const element = document.querySelector('#df-080c0d4b-7a6f-4d1a-893b-afc0383a0f4c');\n",
              "        const dataTable =\n",
              "          await google.colab.kernel.invokeFunction('convertToInteractive',\n",
              "                                                    [key], {});\n",
              "        if (!dataTable) return;\n",
              "\n",
              "        const docLinkHtml = 'Like what you see? Visit the ' +\n",
              "          '<a target=\"_blank\" href=https://colab.research.google.com/notebooks/data_table.ipynb>data table notebook</a>'\n",
              "          + ' to learn more about interactive tables.';\n",
              "        element.innerHTML = '';\n",
              "        dataTable['output_type'] = 'display_data';\n",
              "        await google.colab.output.renderOutput(dataTable, element);\n",
              "        const docLink = document.createElement('div');\n",
              "        docLink.innerHTML = docLinkHtml;\n",
              "        element.appendChild(docLink);\n",
              "      }\n",
              "    </script>\n",
              "  </div>\n",
              "\n",
              "\n",
              "<div id=\"df-a0f3ac1b-ef80-4438-a3ad-bb20eaa22359\">\n",
              "  <button class=\"colab-df-quickchart\" onclick=\"quickchart('df-a0f3ac1b-ef80-4438-a3ad-bb20eaa22359')\"\n",
              "            title=\"Suggest charts\"\n",
              "            style=\"display:none;\">\n",
              "\n",
              "<svg xmlns=\"http://www.w3.org/2000/svg\" height=\"24px\"viewBox=\"0 0 24 24\"\n",
              "     width=\"24px\">\n",
              "    <g>\n",
              "        <path d=\"M19 3H5c-1.1 0-2 .9-2 2v14c0 1.1.9 2 2 2h14c1.1 0 2-.9 2-2V5c0-1.1-.9-2-2-2zM9 17H7v-7h2v7zm4 0h-2V7h2v10zm4 0h-2v-4h2v4z\"/>\n",
              "    </g>\n",
              "</svg>\n",
              "  </button>\n",
              "\n",
              "<style>\n",
              "  .colab-df-quickchart {\n",
              "      --bg-color: #E8F0FE;\n",
              "      --fill-color: #1967D2;\n",
              "      --hover-bg-color: #E2EBFA;\n",
              "      --hover-fill-color: #174EA6;\n",
              "      --disabled-fill-color: #AAA;\n",
              "      --disabled-bg-color: #DDD;\n",
              "  }\n",
              "\n",
              "  [theme=dark] .colab-df-quickchart {\n",
              "      --bg-color: #3B4455;\n",
              "      --fill-color: #D2E3FC;\n",
              "      --hover-bg-color: #434B5C;\n",
              "      --hover-fill-color: #FFFFFF;\n",
              "      --disabled-bg-color: #3B4455;\n",
              "      --disabled-fill-color: #666;\n",
              "  }\n",
              "\n",
              "  .colab-df-quickchart {\n",
              "    background-color: var(--bg-color);\n",
              "    border: none;\n",
              "    border-radius: 50%;\n",
              "    cursor: pointer;\n",
              "    display: none;\n",
              "    fill: var(--fill-color);\n",
              "    height: 32px;\n",
              "    padding: 0;\n",
              "    width: 32px;\n",
              "  }\n",
              "\n",
              "  .colab-df-quickchart:hover {\n",
              "    background-color: var(--hover-bg-color);\n",
              "    box-shadow: 0 1px 2px rgba(60, 64, 67, 0.3), 0 1px 3px 1px rgba(60, 64, 67, 0.15);\n",
              "    fill: var(--button-hover-fill-color);\n",
              "  }\n",
              "\n",
              "  .colab-df-quickchart-complete:disabled,\n",
              "  .colab-df-quickchart-complete:disabled:hover {\n",
              "    background-color: var(--disabled-bg-color);\n",
              "    fill: var(--disabled-fill-color);\n",
              "    box-shadow: none;\n",
              "  }\n",
              "\n",
              "  .colab-df-spinner {\n",
              "    border: 2px solid var(--fill-color);\n",
              "    border-color: transparent;\n",
              "    border-bottom-color: var(--fill-color);\n",
              "    animation:\n",
              "      spin 1s steps(1) infinite;\n",
              "  }\n",
              "\n",
              "  @keyframes spin {\n",
              "    0% {\n",
              "      border-color: transparent;\n",
              "      border-bottom-color: var(--fill-color);\n",
              "      border-left-color: var(--fill-color);\n",
              "    }\n",
              "    20% {\n",
              "      border-color: transparent;\n",
              "      border-left-color: var(--fill-color);\n",
              "      border-top-color: var(--fill-color);\n",
              "    }\n",
              "    30% {\n",
              "      border-color: transparent;\n",
              "      border-left-color: var(--fill-color);\n",
              "      border-top-color: var(--fill-color);\n",
              "      border-right-color: var(--fill-color);\n",
              "    }\n",
              "    40% {\n",
              "      border-color: transparent;\n",
              "      border-right-color: var(--fill-color);\n",
              "      border-top-color: var(--fill-color);\n",
              "    }\n",
              "    60% {\n",
              "      border-color: transparent;\n",
              "      border-right-color: var(--fill-color);\n",
              "    }\n",
              "    80% {\n",
              "      border-color: transparent;\n",
              "      border-right-color: var(--fill-color);\n",
              "      border-bottom-color: var(--fill-color);\n",
              "    }\n",
              "    90% {\n",
              "      border-color: transparent;\n",
              "      border-bottom-color: var(--fill-color);\n",
              "    }\n",
              "  }\n",
              "</style>\n",
              "\n",
              "  <script>\n",
              "    async function quickchart(key) {\n",
              "      const quickchartButtonEl =\n",
              "        document.querySelector('#' + key + ' button');\n",
              "      quickchartButtonEl.disabled = true;  // To prevent multiple clicks.\n",
              "      quickchartButtonEl.classList.add('colab-df-spinner');\n",
              "      try {\n",
              "        const charts = await google.colab.kernel.invokeFunction(\n",
              "            'suggestCharts', [key], {});\n",
              "      } catch (error) {\n",
              "        console.error('Error during call to suggestCharts:', error);\n",
              "      }\n",
              "      quickchartButtonEl.classList.remove('colab-df-spinner');\n",
              "      quickchartButtonEl.classList.add('colab-df-quickchart-complete');\n",
              "    }\n",
              "    (() => {\n",
              "      let quickchartButtonEl =\n",
              "        document.querySelector('#df-a0f3ac1b-ef80-4438-a3ad-bb20eaa22359 button');\n",
              "      quickchartButtonEl.style.display =\n",
              "        google.colab.kernel.accessAllowed ? 'block' : 'none';\n",
              "    })();\n",
              "  </script>\n",
              "</div>\n",
              "    </div>\n",
              "  </div>\n"
            ]
          },
          "metadata": {},
          "execution_count": 77
        }
      ]
    },
    {
      "cell_type": "markdown",
      "source": [
        "# Data Visualization"
      ],
      "metadata": {
        "id": "uVMZZ7OcToHa"
      }
    },
    {
      "cell_type": "markdown",
      "source": [
        "Data for visualizations"
      ],
      "metadata": {
        "id": "r6CQ188UTqhG"
      }
    },
    {
      "cell_type": "markdown",
      "source": [
        "Health issue during lockdown' to numeric for correlation analysis"
      ],
      "metadata": {
        "id": "JNuQ7QwNWAs8"
      }
    },
    {
      "cell_type": "code",
      "source": [
        "df['Health issue during lockdown'] = df['Health issue during lockdown'].map({'YES': 1, 'NO': 0})"
      ],
      "metadata": {
        "id": "GraEINA3V4FG"
      },
      "execution_count": null,
      "outputs": []
    },
    {
      "cell_type": "markdown",
      "source": [
        "Distribution of Online Class Ratings:This bar chart shows how students rated their online class experiences, providing a clear view of their overall satisfaction."
      ],
      "metadata": {
        "id": "7tMUfa3hWCNF"
      }
    },
    {
      "cell_type": "code",
      "source": [
        "plt.figure(figsize=(8, 6))\n",
        "sns.countplot(x='Rating of Online Class experience', data=df, palette='viridis')\n",
        "plt.title('Distribution of Online Class Ratings')\n",
        "plt.xlabel('Rating')\n",
        "plt.ylabel('Count')\n",
        "plt.show()"
      ],
      "metadata": {
        "colab": {
          "base_uri": "https://localhost:8080/",
          "height": 564
        },
        "id": "EPOaTjSgWG1e",
        "outputId": "bb4111f4-cf54-4586-c32c-b0f4e3a647b2"
      },
      "execution_count": null,
      "outputs": [
        {
          "output_type": "display_data",
          "data": {
            "text/plain": [
              "<Figure size 800x600 with 1 Axes>"
            ],
            "image/png": "[encoded data removed]"
          },
          "metadata": {}
        }
      ]
    },
    {
      "cell_type": "markdown",
      "source": [
        "Average Time Spent on Various Activities: The bar chart compares the average time students spent on online classes, self-study, fitness, and social media, offering insights into their daily routines"
      ],
      "metadata": {
        "id": "dq-UszDbWVH7"
      }
    },
    {
      "cell_type": "code",
      "source": [
        "activities = ['Time spent on Online Class', 'Time spent on self study', 'Time spent on fitness', 'Time spent on social media']\n",
        "average_times = df[activities].mean()\n",
        "plt.figure(figsize=(10, 6))\n",
        "average_times.plot(kind='bar', color='teal')\n",
        "plt.title('Average Time Spent on Various Activities')\n",
        "plt.xlabel('Activity')\n",
        "plt.ylabel('Average Time (hours)')\n",
        "plt.xticks(rotation=45)\n",
        "plt.show()"
      ],
      "metadata": {
        "colab": {
          "base_uri": "https://localhost:8080/",
          "height": 695
        },
        "id": "fNrHhB7ZWfGd",
        "outputId": "63029571-f8b8-4d2b-f477-905279e00bf8"
      },
      "execution_count": null,
      "outputs": [
        {
          "output_type": "display_data",
          "data": {
            "text/plain": [
              "<Figure size 1000x600 with 1 Axes>"
            ],
            "image/png": "[encoded data removed]"
          },
          "metadata": {}
        }
      ]
    },
    {
      "cell_type": "markdown",
      "source": [
        "Sleep Duration Analysis:The histogram displays the distribution of sleep duration among students, highlighting sleep patterns."
      ],
      "metadata": {
        "id": "al0UP0RSWqd7"
      }
    },
    {
      "cell_type": "code",
      "source": [
        "plt.figure(figsize=(10, 6))\n",
        "sns.histplot(df['Time spent on sleep'], bins=10, kde=True, color='purple')\n",
        "plt.title('Distribution of Sleep Duration')\n",
        "plt.xlabel('Hours of Sleep')\n",
        "plt.ylabel('Frequency')\n",
        "plt.show()"
      ],
      "metadata": {
        "colab": {
          "base_uri": "https://localhost:8080/",
          "height": 564
        },
        "id": "35Rt8trUWxCM",
        "outputId": "0a885570-1a43-473d-92df-c4b26f47f193"
      },
      "execution_count": null,
      "outputs": [
        {
          "output_type": "display_data",
          "data": {
            "text/plain": [
              "<Figure size 1000x600 with 1 Axes>"
            ],
            "image/png": "[encoded data removed]"
          },
          "metadata": {}
        }
      ]
    },
    {
      "cell_type": "markdown",
      "source": [
        "Correlation Heatmap:This heatmap shows the correlations between the time spent on various activities, helping to identify any strong relationships."
      ],
      "metadata": {
        "id": "1GScSQaRW9P0"
      }
    },
    {
      "cell_type": "code",
      "source": [
        "correlation_matrix = df[activities + ['Health issue during lockdown']].corr()\n",
        "plt.figure(figsize=(10, 8))\n",
        "sns.heatmap(correlation_matrix, annot=True, cmap='coolwarm')\n",
        "plt.title('Correlation Heatmap of Time Spent on Various Activities')\n",
        "plt.show()"
      ],
      "metadata": {
        "colab": {
          "base_uri": "https://localhost:8080/",
          "height": 889
        },
        "id": "gkBKsv8OXA6i",
        "outputId": "1d000d52-bbb6-45d2-97d4-f14182d82105"
      },
      "execution_count": null,
      "outputs": [
        {
          "output_type": "display_data",
          "data": {
            "text/plain": [
              "<Figure size 1000x800 with 2 Axes>"
            ],
            "image/png": "[encoded data removed]"
          },
          "metadata": {}
        }
      ]
    },
    {
      "cell_type": "markdown",
      "source": [
        "Comparison of Time Utilization: The count plot compares the number of students who effectively utilized their time against those who did not."
      ],
      "metadata": {
        "id": "-yfpaT3XXO89"
      }
    },
    {
      "cell_type": "code",
      "source": [
        "plt.figure(figsize=(8, 6))\n",
        "sns.countplot(x='Time utilized', data=df, palette='Set2')\n",
        "plt.title('Comparison of Time Utilization Efficiency Among Students')\n",
        "plt.xlabel('Time Utilization Efficient')\n",
        "plt.ylabel('Count')\n",
        "plt.show()"
      ],
      "metadata": {
        "colab": {
          "base_uri": "https://localhost:8080/",
          "height": 564
        },
        "id": "SLiWQJaPXQYX",
        "outputId": "d37340f5-5266-42dc-9cf5-0fbecd23ef67"
      },
      "execution_count": null,
      "outputs": [
        {
          "output_type": "display_data",
          "data": {
            "text/plain": [
              "<Figure size 800x600 with 1 Axes>"
            ],
            "image/png": "[encoded data removed]"
          },
          "metadata": {}
        }
      ]
    },
    {
      "cell_type": "markdown",
      "source": [
        "Family Connection During Lockdown: The pie chart visualizes the proportion of students who felt more connected with their family during the lockdown, reflecting on their social experiences."
      ],
      "metadata": {
        "id": "_2GhrnS9XmlJ"
      }
    },
    {
      "cell_type": "code",
      "source": [
        "family_connection_distribution = df['Do you find yourself more connected with your family, close friends , relatives  ?'].value_counts()\n",
        "\n",
        "plt.figure(figsize=(8, 8))\n",
        "family_connection_distribution.plot.pie(autopct='%1.1f%%', startangle=140, colors=['skyblue', 'lightcoral'])\n",
        "plt.title('Family Connection During Lockdown')\n",
        "plt.ylabel('')  # Hide the y-label\n",
        "plt.show()"
      ],
      "metadata": {
        "colab": {
          "base_uri": "https://localhost:8080/",
          "height": 675
        },
        "id": "VasB_56MXnPG",
        "outputId": "2307e105-ff75-4633-a9b0-83062618ced2"
      },
      "execution_count": null,
      "outputs": [
        {
          "output_type": "display_data",
          "data": {
            "text/plain": [
              "<Figure size 800x800 with 1 Axes>"
            ],
            "image/png": "[encoded data removed]"
          },
          "metadata": {}
        }
      ]
    },
    {
      "cell_type": "markdown",
      "source": [
        "# Hypothesis Testing and Statistical Analysis"
      ],
      "metadata": {
        "id": "AYRmaIICfGIQ"
      }
    },
    {
      "cell_type": "code",
      "source": [
        "from scipy.stats import pearsonr, ttest_ind, chi2_contingency"
      ],
      "metadata": {
        "id": "ONJju63nfzcc"
      },
      "execution_count": null,
      "outputs": []
    },
    {
      "cell_type": "markdown",
      "source": [
        "Hypothesis 1 - Time Spent on Online Classes and Sleep Duration:"
      ],
      "metadata": {
        "id": "SMqBkxijf021"
      }
    },
    {
      "cell_type": "code",
      "source": [
        "correlation_coefficient, p_value_corr = pearsonr(df['Time spent on Online Class'], df['Time spent on sleep'])"
      ],
      "metadata": {
        "id": "iTwqs1KfgH5Y"
      },
      "execution_count": null,
      "outputs": []
    },
    {
      "cell_type": "markdown",
      "source": [
        "Hypothesis 2 - Social Media Usage and Reported Health Issues:"
      ],
      "metadata": {
        "id": "qPRObd6rgkkW"
      }
    },
    {
      "cell_type": "code",
      "source": [
        "students_with_health_issues = df[df['Health issue during lockdown'] == 1]['Time spent on social media']\n",
        "students_without_health_issues = df[df['Health issue during lockdown'] == 0]['Time spent on social media']\n",
        "t_statistic, p_value_ttest = ttest_ind(students_with_health_issues, students_without_health_issues)"
      ],
      "metadata": {
        "id": "JvjilzWSgmPX"
      },
      "execution_count": null,
      "outputs": []
    },
    {
      "cell_type": "markdown",
      "source": [
        "Hypothesis 3 - Effective Time Utilization and Family Connection:"
      ],
      "metadata": {
        "id": "-uWtu6qJgx-Y"
      }
    },
    {
      "cell_type": "code",
      "source": [
        "contingency_table = pd.crosstab(df['Time utilized'], df['Do you find yourself more connected with your family, close friends , relatives  ?'])\n",
        "chi2, p_value_chi2, _, _ = chi2_contingency(contingency_table)"
      ],
      "metadata": {
        "id": "CLiq1v4zgzKP"
      },
      "execution_count": null,
      "outputs": []
    },
    {
      "cell_type": "markdown",
      "source": [
        "Print the results"
      ],
      "metadata": {
        "id": "SqvAUK5BhB3W"
      }
    },
    {
      "cell_type": "code",
      "source": [
        "print(\"Pearson Correlation Coefficient (Hypothesis 1):\", correlation_coefficient)\n",
        "print(\"P-value (Hypothesis 1):\", p_value_corr)\n",
        "print(\"T-Statistic (Hypothesis 2):\", t_statistic)\n",
        "print(\"P-value (Hypothesis 2):\", p_value_ttest)\n",
        "print(\"Chi-Square Statistic (Hypothesis 3):\", chi2)\n",
        "print(\"P-value (Hypothesis 3):\", p_value_chi2)"
      ],
      "metadata": {
        "id": "mnjLmKWqhCrC",
        "outputId": "f0c9664a-98c4-4f02-88dc-6b95963a2f7d",
        "colab": {
          "base_uri": "https://localhost:8080/"
        }
      },
      "execution_count": null,
      "outputs": [
        {
          "output_type": "stream",
          "name": "stdout",
          "text": [
            "Pearson Correlation Coefficient (Hypothesis 1): -0.17778233524348003\n",
            "P-value (Hypothesis 1): 7.516149522441335e-10\n",
            "T-Statistic (Hypothesis 2): nan\n",
            "P-value (Hypothesis 2): nan\n",
            "Chi-Square Statistic (Hypothesis 3): 50.78747018599136\n",
            "P-value (Hypothesis 3): 1.0292869654632776e-12\n"
          ]
        }
      ]
    },
    {
      "cell_type": "markdown",
      "source": [
        "# Advance Analysis:Linear regression"
      ],
      "metadata": {
        "id": "vnG9-OkNnfL5"
      }
    },
    {
      "cell_type": "markdown",
      "source": [
        "Creating and Training the Model"
      ],
      "metadata": {
        "id": "d4qh6QLenxBY"
      }
    },
    {
      "cell_type": "code",
      "source": [
        "from sklearn.model_selection import train_test_split\n",
        "from sklearn.linear_model import LinearRegression"
      ],
      "metadata": {
        "id": "LwWVnUUloR_f"
      },
      "execution_count": 1,
      "outputs": []
    },
    {
      "cell_type": "markdown",
      "source": [
        "Selecting independent variables for the regression model"
      ],
      "metadata": {
        "id": "imPkxt0Lnwd9"
      }
    },
    {
      "cell_type": "code",
      "source": [
        "independent_vars = ['Time spent on Online Class', 'Time spent on self study', 'Time spent on fitness', 'Time spent on social media']\n",
        "X = df[independent_vars].fillna(0)  # Handling NaN values by replacing them with 0\n",
        "y = df['Time spent on sleep'].fillna(df['Time spent on sleep'].mean())  # Handling NaN values in dependent variable"
      ],
      "metadata": {
        "id": "V_vhP4Hxoo2Z"
      },
      "execution_count": 13,
      "outputs": []
    },
    {
      "cell_type": "markdown",
      "source": [
        "Linear Regression Model"
      ],
      "metadata": {
        "id": "qII28pMEph1X"
      }
    },
    {
      "cell_type": "code",
      "source": [
        "model = LinearRegression()\n",
        "model.fit(X, y)"
      ],
      "metadata": {
        "colab": {
          "base_uri": "https://localhost:8080/",
          "height": 75
        },
        "id": "ZMWN2XPxpipT",
        "outputId": "0289e1fc-0475-45e2-a8f8-eba96a814501"
      },
      "execution_count": 14,
      "outputs": [
        {
          "output_type": "execute_result",
          "data": {
            "text/plain": [
              "LinearRegression()"
            ],
            "text/html": [
              "<style>#sk-container-id-1 {color: black;background-color: white;}#sk-container-id-1 pre{padding: 0;}#sk-container-id-1 div.sk-toggleable {background-color: white;}#sk-container-id-1 label.sk-toggleable__label {cursor: pointer;display: block;width: 100%;margin-bottom: 0;padding: 0.3em;box-sizing: border-box;text-align: center;}#sk-container-id-1 label.sk-toggleable__label-arrow:before {content: \"▸\";float: left;margin-right: 0.25em;color: #696969;}#sk-container-id-1 label.sk-toggleable__label-arrow:hover:before {color: black;}#sk-container-id-1 div.sk-estimator:hover label.sk-toggleable__label-arrow:before {color: black;}#sk-container-id-1 div.sk-toggleable__content {max-height: 0;max-width: 0;overflow: hidden;text-align: left;background-color: #f0f8ff;}#sk-container-id-1 div.sk-toggleable__content pre {margin: 0.2em;color: black;border-radius: 0.25em;background-color: #f0f8ff;}#sk-container-id-1 input.sk-toggleable__control:checked~div.sk-toggleable__content {max-height: 200px;max-width: 100%;overflow: auto;}#sk-container-id-1 input.sk-toggleable__control:checked~label.sk-toggleable__label-arrow:before {content: \"▾\";}#sk-container-id-1 div.sk-estimator input.sk-toggleable__control:checked~label.sk-toggleable__label {background-color: #d4ebff;}#sk-container-id-1 div.sk-label input.sk-toggleable__control:checked~label.sk-toggleable__label {background-color: #d4ebff;}#sk-container-id-1 input.sk-hidden--visually {border: 0;clip: rect(1px 1px 1px 1px);clip: rect(1px, 1px, 1px, 1px);height: 1px;margin: -1px;overflow: hidden;padding: 0;position: absolute;width: 1px;}#sk-container-id-1 div.sk-estimator {font-family: monospace;background-color: #f0f8ff;border: 1px dotted black;border-radius: 0.25em;box-sizing: border-box;margin-bottom: 0.5em;}#sk-container-id-1 div.sk-estimator:hover {background-color: #d4ebff;}#sk-container-id-1 div.sk-parallel-item::after {content: \"\";width: 100%;border-bottom: 1px solid gray;flex-grow: 1;}#sk-container-id-1 div.sk-label:hover label.sk-toggleable__label {background-color: #d4ebff;}#sk-container-id-1 div.sk-serial::before {content: \"\";position: absolute;border-left: 1px solid gray;box-sizing: border-box;top: 0;bottom: 0;left: 50%;z-index: 0;}#sk-container-id-1 div.sk-serial {display: flex;flex-direction: column;align-items: center;background-color: white;padding-right: 0.2em;padding-left: 0.2em;position: relative;}#sk-container-id-1 div.sk-item {position: relative;z-index: 1;}#sk-container-id-1 div.sk-parallel {display: flex;align-items: stretch;justify-content: center;background-color: white;position: relative;}#sk-container-id-1 div.sk-item::before, #sk-container-id-1 div.sk-parallel-item::before {content: \"\";position: absolute;border-left: 1px solid gray;box-sizing: border-box;top: 0;bottom: 0;left: 50%;z-index: -1;}#sk-container-id-1 div.sk-parallel-item {display: flex;flex-direction: column;z-index: 1;position: relative;background-color: white;}#sk-container-id-1 div.sk-parallel-item:first-child::after {align-self: flex-end;width: 50%;}#sk-container-id-1 div.sk-parallel-item:last-child::after {align-self: flex-start;width: 50%;}#sk-container-id-1 div.sk-parallel-item:only-child::after {width: 0;}#sk-container-id-1 div.sk-dashed-wrapped {border: 1px dashed gray;margin: 0 0.4em 0.5em 0.4em;box-sizing: border-box;padding-bottom: 0.4em;background-color: white;}#sk-container-id-1 div.sk-label label {font-family: monospace;font-weight: bold;display: inline-block;line-height: 1.2em;}#sk-container-id-1 div.sk-label-container {text-align: center;}#sk-container-id-1 div.sk-container {/* jupyter's `normalize.less` sets `[hidden] { display: none; }` but bootstrap.min.css set `[hidden] { display: none !important; }` so we also need the `!important` here to be able to override the default hidden behavior on the sphinx rendered scikit-learn.org. See: https://github.com/scikit-learn/scikit-learn/issues/21755 */display: inline-block !important;position: relative;}#sk-container-id-1 div.sk-text-repr-fallback {display: none;}</style><div id=\"sk-container-id-1\" class=\"sk-top-container\"><div class=\"sk-text-repr-fallback\"><pre>LinearRegression()</pre><b>In a Jupyter environment, please rerun this cell to show the HTML representation or trust the notebook. <br />On GitHub, the HTML representation is unable to render, please try loading this page with nbviewer.org.</b></div><div class=\"sk-container\" hidden><div class=\"sk-item\"><div class=\"sk-estimator sk-toggleable\"><input class=\"sk-toggleable__control sk-hidden--visually\" id=\"sk-estimator-id-1\" type=\"checkbox\" checked><label for=\"sk-estimator-id-1\" class=\"sk-toggleable__label sk-toggleable__label-arrow\">LinearRegression</label><div class=\"sk-toggleable__content\"><pre>LinearRegression()</pre></div></div></div></div></div>"
            ]
          },
          "metadata": {},
          "execution_count": 14
        }
      ]
    },
    {
      "cell_type": "markdown",
      "source": [
        "Output the coefficients and intercept"
      ],
      "metadata": {
        "id": "_kweJVGvpnw1"
      }
    },
    {
      "cell_type": "code",
      "source": [
        "coefficients = model.coef_\n",
        "intercept = model.intercept_\n",
        "print(\"Coefficients:\", coefficients)\n",
        "print(\"Intercept:\", intercept)"
      ],
      "metadata": {
        "colab": {
          "base_uri": "https://localhost:8080/"
        },
        "id": "9Y46Fo0apqI3",
        "outputId": "74c3f695-a9aa-4ce7-d58e-55d770c5b51d"
      },
      "execution_count": 19,
      "outputs": [
        {
          "output_type": "stream",
          "name": "stdout",
          "text": [
            "Coefficients: [-0.11664384 -0.1463724  -0.09427453  0.03158843]\n",
            "Intercept: 8.669172068970939\n"
          ]
        }
      ]
    }
  ]
}